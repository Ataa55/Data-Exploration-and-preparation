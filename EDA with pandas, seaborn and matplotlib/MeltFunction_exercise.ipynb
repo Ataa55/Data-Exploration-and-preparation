{
 "cells": [
  {
   "cell_type": "code",
   "execution_count": 1,
   "id": "5fa7ddbc",
   "metadata": {},
   "outputs": [],
   "source": [
    "import pandas as pd\n",
    "import seaborn as sns\n",
    "import matplotlib as plt"
   ]
  },
  {
   "cell_type": "code",
   "execution_count": 75,
   "id": "e913f8bd",
   "metadata": {},
   "outputs": [],
   "source": [
    "df_melt = pd.read_excel('D:\\Data\\Data Engineering_ITI\\Data Exploration and preparation\\day_3\\lab-20231012T192036Z-001\\lab\\population_total.xlsx')"
   ]
  },
  {
   "cell_type": "code",
   "execution_count": null,
   "id": "63865873",
   "metadata": {},
   "outputs": [],
   "source": [
    "df_melt"
   ]
  },
  {
   "cell_type": "code",
   "execution_count": 76,
   "id": "02476614",
   "metadata": {},
   "outputs": [],
   "source": [
    "df_melt = df_melt.melt(id_vars=['country'], var_name='Year', value_name='total_Population')"
   ]
  },
  {
   "cell_type": "code",
   "execution_count": 77,
   "id": "73ca69e5",
   "metadata": {},
   "outputs": [
    {
     "data": {
      "text/html": [
       "<div>\n",
       "<style scoped>\n",
       "    .dataframe tbody tr th:only-of-type {\n",
       "        vertical-align: middle;\n",
       "    }\n",
       "\n",
       "    .dataframe tbody tr th {\n",
       "        vertical-align: top;\n",
       "    }\n",
       "\n",
       "    .dataframe thead th {\n",
       "        text-align: right;\n",
       "    }\n",
       "</style>\n",
       "<table border=\"1\" class=\"dataframe\">\n",
       "  <thead>\n",
       "    <tr style=\"text-align: right;\">\n",
       "      <th></th>\n",
       "      <th>country</th>\n",
       "      <th>Year</th>\n",
       "      <th>total_Population</th>\n",
       "    </tr>\n",
       "  </thead>\n",
       "  <tbody>\n",
       "    <tr>\n",
       "      <th>0</th>\n",
       "      <td>Afghanistan</td>\n",
       "      <td>1800</td>\n",
       "      <td>3.28M</td>\n",
       "    </tr>\n",
       "    <tr>\n",
       "      <th>1</th>\n",
       "      <td>Angola</td>\n",
       "      <td>1800</td>\n",
       "      <td>1.57M</td>\n",
       "    </tr>\n",
       "    <tr>\n",
       "      <th>2</th>\n",
       "      <td>Albania</td>\n",
       "      <td>1800</td>\n",
       "      <td>400k</td>\n",
       "    </tr>\n",
       "    <tr>\n",
       "      <th>3</th>\n",
       "      <td>Andorra</td>\n",
       "      <td>1800</td>\n",
       "      <td>2650</td>\n",
       "    </tr>\n",
       "    <tr>\n",
       "      <th>4</th>\n",
       "      <td>United Arab Emirates</td>\n",
       "      <td>1800</td>\n",
       "      <td>40.2k</td>\n",
       "    </tr>\n",
       "    <tr>\n",
       "      <th>...</th>\n",
       "      <td>...</td>\n",
       "      <td>...</td>\n",
       "      <td>...</td>\n",
       "    </tr>\n",
       "    <tr>\n",
       "      <th>59292</th>\n",
       "      <td>Samoa</td>\n",
       "      <td>2100</td>\n",
       "      <td>310k</td>\n",
       "    </tr>\n",
       "    <tr>\n",
       "      <th>59293</th>\n",
       "      <td>Yemen</td>\n",
       "      <td>2100</td>\n",
       "      <td>53.2M</td>\n",
       "    </tr>\n",
       "    <tr>\n",
       "      <th>59294</th>\n",
       "      <td>South Africa</td>\n",
       "      <td>2100</td>\n",
       "      <td>79.2M</td>\n",
       "    </tr>\n",
       "    <tr>\n",
       "      <th>59295</th>\n",
       "      <td>Zambia</td>\n",
       "      <td>2100</td>\n",
       "      <td>81.5M</td>\n",
       "    </tr>\n",
       "    <tr>\n",
       "      <th>59296</th>\n",
       "      <td>Zimbabwe</td>\n",
       "      <td>2100</td>\n",
       "      <td>31M</td>\n",
       "    </tr>\n",
       "  </tbody>\n",
       "</table>\n",
       "<p>59297 rows × 3 columns</p>\n",
       "</div>"
      ],
      "text/plain": [
       "                    country  Year total_Population\n",
       "0               Afghanistan  1800            3.28M\n",
       "1                    Angola  1800            1.57M\n",
       "2                   Albania  1800             400k\n",
       "3                   Andorra  1800             2650\n",
       "4      United Arab Emirates  1800            40.2k\n",
       "...                     ...   ...              ...\n",
       "59292                 Samoa  2100             310k\n",
       "59293                 Yemen  2100            53.2M\n",
       "59294          South Africa  2100            79.2M\n",
       "59295                Zambia  2100            81.5M\n",
       "59296              Zimbabwe  2100              31M\n",
       "\n",
       "[59297 rows x 3 columns]"
      ]
     },
     "execution_count": 77,
     "metadata": {},
     "output_type": "execute_result"
    }
   ],
   "source": [
    "df_melt"
   ]
  },
  {
   "cell_type": "code",
   "execution_count": null,
   "id": "62260430",
   "metadata": {},
   "outputs": [],
   "source": [
    "df_melt.dt"
   ]
  },
  {
   "cell_type": "code",
   "execution_count": null,
   "id": "5ee89412",
   "metadata": {},
   "outputs": [],
   "source": []
  },
  {
   "cell_type": "code",
   "execution_count": null,
   "id": "bad8064b",
   "metadata": {},
   "outputs": [],
   "source": []
  },
  {
   "cell_type": "code",
   "execution_count": 78,
   "id": "53edb867",
   "metadata": {},
   "outputs": [
    {
     "data": {
      "text/plain": [
       "array(['M', 'k', '0', '5', '6', '7', '8', '9', '1', '2', '3', '4', 'B'],\n",
       "      dtype=object)"
      ]
     },
     "execution_count": 78,
     "metadata": {},
     "output_type": "execute_result"
    }
   ],
   "source": [
    "df_melt['total_Population'].astype(str).apply(lambda x:x[-1]).unique()"
   ]
  },
  {
   "cell_type": "code",
   "execution_count": 81,
   "id": "139daeab",
   "metadata": {},
   "outputs": [],
   "source": [
    "def to_number(input_):\n",
    "    last = input_[-1]\n",
    "    if last is int:\n",
    "        return input_\n",
    "    elif last == 'M':\n",
    "        input_ = float(input_[:-1])*10**6\n",
    "        return input_\n",
    "    elif last == 'k':\n",
    "        input_ = float(input_[:-1])*10**3\n",
    "        return input_\n",
    "    elif last == 'B':\n",
    "        input_ = float(input_[:-1])*10**9  \n",
    "        return input_\n",
    "    else:\n",
    "        return input_"
   ]
  },
  {
   "cell_type": "code",
   "execution_count": 82,
   "id": "5e39d6de",
   "metadata": {},
   "outputs": [
    {
     "data": {
      "text/plain": [
       "'2650'"
      ]
     },
     "execution_count": 82,
     "metadata": {},
     "output_type": "execute_result"
    }
   ],
   "source": [
    "to_number('2650')"
   ]
  },
  {
   "cell_type": "code",
   "execution_count": 85,
   "id": "c85dc7c5",
   "metadata": {},
   "outputs": [],
   "source": [
    "df_melt['total_Population'] = df_melt['total_Population'].astype(str).apply(lambda x:to_number(x)).astype(float)"
   ]
  },
  {
   "cell_type": "code",
   "execution_count": 87,
   "id": "7aa73dc5",
   "metadata": {},
   "outputs": [
    {
     "data": {
      "text/html": [
       "<div>\n",
       "<style scoped>\n",
       "    .dataframe tbody tr th:only-of-type {\n",
       "        vertical-align: middle;\n",
       "    }\n",
       "\n",
       "    .dataframe tbody tr th {\n",
       "        vertical-align: top;\n",
       "    }\n",
       "\n",
       "    .dataframe thead th {\n",
       "        text-align: right;\n",
       "    }\n",
       "</style>\n",
       "<table border=\"1\" class=\"dataframe\">\n",
       "  <thead>\n",
       "    <tr style=\"text-align: right;\">\n",
       "      <th></th>\n",
       "      <th>country</th>\n",
       "      <th>Year</th>\n",
       "      <th>total_Population</th>\n",
       "    </tr>\n",
       "  </thead>\n",
       "  <tbody>\n",
       "    <tr>\n",
       "      <th>0</th>\n",
       "      <td>Afghanistan</td>\n",
       "      <td>1800</td>\n",
       "      <td>3280000.0</td>\n",
       "    </tr>\n",
       "    <tr>\n",
       "      <th>1</th>\n",
       "      <td>Angola</td>\n",
       "      <td>1800</td>\n",
       "      <td>1570000.0</td>\n",
       "    </tr>\n",
       "    <tr>\n",
       "      <th>2</th>\n",
       "      <td>Albania</td>\n",
       "      <td>1800</td>\n",
       "      <td>400000.0</td>\n",
       "    </tr>\n",
       "    <tr>\n",
       "      <th>3</th>\n",
       "      <td>Andorra</td>\n",
       "      <td>1800</td>\n",
       "      <td>2650.0</td>\n",
       "    </tr>\n",
       "    <tr>\n",
       "      <th>4</th>\n",
       "      <td>United Arab Emirates</td>\n",
       "      <td>1800</td>\n",
       "      <td>40200.0</td>\n",
       "    </tr>\n",
       "    <tr>\n",
       "      <th>...</th>\n",
       "      <td>...</td>\n",
       "      <td>...</td>\n",
       "      <td>...</td>\n",
       "    </tr>\n",
       "    <tr>\n",
       "      <th>59292</th>\n",
       "      <td>Samoa</td>\n",
       "      <td>2100</td>\n",
       "      <td>310000.0</td>\n",
       "    </tr>\n",
       "    <tr>\n",
       "      <th>59293</th>\n",
       "      <td>Yemen</td>\n",
       "      <td>2100</td>\n",
       "      <td>53200000.0</td>\n",
       "    </tr>\n",
       "    <tr>\n",
       "      <th>59294</th>\n",
       "      <td>South Africa</td>\n",
       "      <td>2100</td>\n",
       "      <td>79200000.0</td>\n",
       "    </tr>\n",
       "    <tr>\n",
       "      <th>59295</th>\n",
       "      <td>Zambia</td>\n",
       "      <td>2100</td>\n",
       "      <td>81500000.0</td>\n",
       "    </tr>\n",
       "    <tr>\n",
       "      <th>59296</th>\n",
       "      <td>Zimbabwe</td>\n",
       "      <td>2100</td>\n",
       "      <td>31000000.0</td>\n",
       "    </tr>\n",
       "  </tbody>\n",
       "</table>\n",
       "<p>59297 rows × 3 columns</p>\n",
       "</div>"
      ],
      "text/plain": [
       "                    country  Year  total_Population\n",
       "0               Afghanistan  1800         3280000.0\n",
       "1                    Angola  1800         1570000.0\n",
       "2                   Albania  1800          400000.0\n",
       "3                   Andorra  1800            2650.0\n",
       "4      United Arab Emirates  1800           40200.0\n",
       "...                     ...   ...               ...\n",
       "59292                 Samoa  2100          310000.0\n",
       "59293                 Yemen  2100        53200000.0\n",
       "59294          South Africa  2100        79200000.0\n",
       "59295                Zambia  2100        81500000.0\n",
       "59296              Zimbabwe  2100        31000000.0\n",
       "\n",
       "[59297 rows x 3 columns]"
      ]
     },
     "execution_count": 87,
     "metadata": {},
     "output_type": "execute_result"
    }
   ],
   "source": [
    "df_melt"
   ]
  },
  {
   "cell_type": "code",
   "execution_count": 96,
   "id": "52add605",
   "metadata": {},
   "outputs": [
    {
     "data": {
      "text/plain": [
       "<AxesSubplot:xlabel='Year', ylabel='total_Population'>"
      ]
     },
     "execution_count": 96,
     "metadata": {},
     "output_type": "execute_result"
    },
    {
     "data": {
      "image/png": "[encoded data removed]",
      "text/plain": [
       "<Figure size 432x288 with 1 Axes>"
      ]
     },
     "metadata": {
      "needs_background": "light"
     },
     "output_type": "display_data"
    }
   ],
   "source": [
    "sns.lineplot(data =df_melt ,x='Year', y = 'total_Population')"
   ]
  },
  {
   "cell_type": "code",
   "execution_count": null,
   "id": "db506872",
   "metadata": {},
   "outputs": [],
   "source": []
  }
 ],
 "metadata": {
  "kernelspec": {
   "display_name": "Python 3 (ipykernel)",
   "language": "python",
   "name": "python3"
  },
  "language_info": {
   "codemirror_mode": {
    "name": "ipython",
    "version": 3
   },
   "file_extension": ".py",
   "mimetype": "text/x-python",
   "name": "python",
   "nbconvert_exporter": "python",
   "pygments_lexer": "ipython3",
   "version": "3.9.7"
  }
 },
 "nbformat": 4,
 "nbformat_minor": 5
}
