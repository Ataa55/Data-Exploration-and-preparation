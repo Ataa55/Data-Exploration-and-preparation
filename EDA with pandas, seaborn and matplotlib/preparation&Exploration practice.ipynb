{
 "cells": [
  {
   "cell_type": "code",
   "execution_count": 80,
   "id": "2d886b90",
   "metadata": {},
   "outputs": [],
   "source": [
    "import pandas as pd\n",
    "import numpy as np \n",
    "import seaborn as sns\n",
    "import matplotlib.pyplot as plt\n",
    "from sklearn.preprocessing import MinMaxScaler, StandardScaler, RobustScaler, LabelEncoder,OneHotEncoder "
   ]
  },
  {
   "cell_type": "code",
   "execution_count": null,
   "id": "21ff09ad",
   "metadata": {},
   "outputs": [],
   "source": [
    "#Consistency task"
   ]
  },
  {
   "cell_type": "code",
   "execution_count": 28,
   "id": "b2860d11",
   "metadata": {},
   "outputs": [
    {
     "data": {
      "text/plain": [
       "Pakistan              776\n",
       "UK                     92\n",
       "USA                    42\n",
       "Malaysia               25\n",
       "France                 23\n",
       "germany                21\n",
       "Austria                20\n",
       "Italy                  17\n",
       "Sweden                 16\n",
       "China                  16\n",
       "Thailand               12\n",
       "USofA                  10\n",
       "Australia              10\n",
       "South Korea             8\n",
       "SouthKorea              7\n",
       "Canada                  6\n",
       "Netherland              6\n",
       " USA                    3\n",
       "Singapore               3\n",
       "Spain                   3\n",
       "Japan                   3\n",
       "Norway                  3\n",
       "Ireland                 3\n",
       "Portugal                2\n",
       " Germany                2\n",
       "HongKong                1\n",
       "Saudi Arabia            1\n",
       "Mauritius               1\n",
       "Macau                   1\n",
       "Russian Federation      1\n",
       "Turkey                  1\n",
       "Greece                  1\n",
       " New Zealand            1\n",
       " Sweden                 1\n",
       "Finland                 1\n",
       "Urbana                  1\n",
       "New Zealand             1\n",
       "Scotland                1\n",
       "Name: Country, dtype: int64"
      ]
     },
     "execution_count": 28,
     "metadata": {},
     "output_type": "execute_result"
    }
   ],
   "source": [
    "df_con = pd.read_csv('D:\\Data\\Data Engineering_ITI\\Data Exploration and preparation\\day_3\\lab-20231012T192036Z-001\\lab\\pakistan_intellectual_capital.csv')\n",
    "df_con['Country'].value_counts()"
   ]
  },
  {
   "cell_type": "code",
   "execution_count": 29,
   "id": "6932334a",
   "metadata": {},
   "outputs": [],
   "source": [
    "df_con['Country'] = df_con['Country'].str.lower()"
   ]
  },
  {
   "cell_type": "code",
   "execution_count": 30,
   "id": "fb68908f",
   "metadata": {},
   "outputs": [],
   "source": [
    "df_con['Country'] = df_con['Country'].str.strip() "
   ]
  },
  {
   "cell_type": "code",
   "execution_count": 31,
   "id": "fafde9e8",
   "metadata": {},
   "outputs": [
    {
     "data": {
      "text/plain": [
       "pakistan              776\n",
       "uk                     92\n",
       "usa                    45\n",
       "malaysia               25\n",
       "germany                23\n",
       "france                 23\n",
       "austria                20\n",
       "sweden                 17\n",
       "italy                  17\n",
       "china                  16\n",
       "thailand               12\n",
       "australia              10\n",
       "usofa                  10\n",
       "south korea             8\n",
       "southkorea              7\n",
       "netherland              6\n",
       "canada                  6\n",
       "ireland                 3\n",
       "norway                  3\n",
       "japan                   3\n",
       "singapore               3\n",
       "spain                   3\n",
       "new zealand             2\n",
       "portugal                2\n",
       "mauritius               1\n",
       "saudi arabia            1\n",
       "hongkong                1\n",
       "urbana                  1\n",
       "macau                   1\n",
       "turkey                  1\n",
       "greece                  1\n",
       "finland                 1\n",
       "russian federation      1\n",
       "scotland                1\n",
       "Name: Country, dtype: int64"
      ]
     },
     "execution_count": 31,
     "metadata": {},
     "output_type": "execute_result"
    }
   ],
   "source": [
    "df_con['Country'].value_counts()"
   ]
  },
  {
   "cell_type": "code",
   "execution_count": 32,
   "id": "38b486b7",
   "metadata": {},
   "outputs": [],
   "source": [
    "df_con.replace({'Country':{'usofa':'usa','southkorea':'south korea'}}, inplace=True)"
   ]
  },
  {
   "cell_type": "code",
   "execution_count": 33,
   "id": "572d87c9",
   "metadata": {},
   "outputs": [
    {
     "data": {
      "text/plain": [
       "pakistan              776\n",
       "uk                     92\n",
       "usa                    55\n",
       "malaysia               25\n",
       "germany                23\n",
       "france                 23\n",
       "austria                20\n",
       "sweden                 17\n",
       "italy                  17\n",
       "china                  16\n",
       "south korea            15\n",
       "thailand               12\n",
       "australia              10\n",
       "netherland              6\n",
       "canada                  6\n",
       "norway                  3\n",
       "ireland                 3\n",
       "japan                   3\n",
       "spain                   3\n",
       "singapore               3\n",
       "new zealand             2\n",
       "portugal                2\n",
       "finland                 1\n",
       "greece                  1\n",
       "turkey                  1\n",
       "macau                   1\n",
       "russian federation      1\n",
       "urbana                  1\n",
       "hongkong                1\n",
       "saudi arabia            1\n",
       "mauritius               1\n",
       "scotland                1\n",
       "Name: Country, dtype: int64"
      ]
     },
     "execution_count": 33,
     "metadata": {},
     "output_type": "execute_result"
    }
   ],
   "source": [
    "df_con['Country'].value_counts()"
   ]
  },
  {
   "cell_type": "code",
   "execution_count": null,
   "id": "eea5295e",
   "metadata": {},
   "outputs": [],
   "source": [
    "#handling date values"
   ]
  },
  {
   "cell_type": "code",
   "execution_count": 3,
   "id": "01b84336",
   "metadata": {},
   "outputs": [],
   "source": [
    "df_date =  pd.read_csv('D:\\Data\\Data Engineering_ITI\\Data Exploration and preparation\\day_3\\lab-20231012T192036Z-001\\lab\\database.csv')"
   ]
  },
  {
   "cell_type": "code",
   "execution_count": 3,
   "id": "d64bce87",
   "metadata": {},
   "outputs": [
    {
     "data": {
      "text/plain": [
       "Date                           object\n",
       "Time                           object\n",
       "Latitude                      float64\n",
       "Longitude                     float64\n",
       "Type                           object\n",
       "Depth                         float64\n",
       "Depth Error                   float64\n",
       "Depth Seismic Stations        float64\n",
       "Magnitude                     float64\n",
       "Magnitude Type                 object\n",
       "Magnitude Error               float64\n",
       "Magnitude Seismic Stations    float64\n",
       "Azimuthal Gap                 float64\n",
       "Horizontal Distance           float64\n",
       "Horizontal Error              float64\n",
       "Root Mean Square              float64\n",
       "ID                             object\n",
       "Source                         object\n",
       "Location Source                object\n",
       "Magnitude Source               object\n",
       "Status                         object\n",
       "dtype: object"
      ]
     },
     "execution_count": 3,
     "metadata": {},
     "output_type": "execute_result"
    }
   ],
   "source": [
    "df_date.dtypes"
   ]
  },
  {
   "cell_type": "code",
   "execution_count": 4,
   "id": "87152394",
   "metadata": {},
   "outputs": [],
   "source": [
    "df_date['NewDate'] = pd.to_datetime(df_date['Date']) "
   ]
  },
  {
   "cell_type": "code",
   "execution_count": 5,
   "id": "827a818e",
   "metadata": {},
   "outputs": [
    {
     "data": {
      "text/html": [
       "<div>\n",
       "<style scoped>\n",
       "    .dataframe tbody tr th:only-of-type {\n",
       "        vertical-align: middle;\n",
       "    }\n",
       "\n",
       "    .dataframe tbody tr th {\n",
       "        vertical-align: top;\n",
       "    }\n",
       "\n",
       "    .dataframe thead th {\n",
       "        text-align: right;\n",
       "    }\n",
       "</style>\n",
       "<table border=\"1\" class=\"dataframe\">\n",
       "  <thead>\n",
       "    <tr style=\"text-align: right;\">\n",
       "      <th></th>\n",
       "      <th>Date</th>\n",
       "      <th>Time</th>\n",
       "      <th>Latitude</th>\n",
       "      <th>Longitude</th>\n",
       "      <th>Type</th>\n",
       "      <th>Depth</th>\n",
       "      <th>Depth Error</th>\n",
       "      <th>Depth Seismic Stations</th>\n",
       "      <th>Magnitude</th>\n",
       "      <th>Magnitude Type</th>\n",
       "      <th>...</th>\n",
       "      <th>Azimuthal Gap</th>\n",
       "      <th>Horizontal Distance</th>\n",
       "      <th>Horizontal Error</th>\n",
       "      <th>Root Mean Square</th>\n",
       "      <th>ID</th>\n",
       "      <th>Source</th>\n",
       "      <th>Location Source</th>\n",
       "      <th>Magnitude Source</th>\n",
       "      <th>Status</th>\n",
       "      <th>NewDate</th>\n",
       "    </tr>\n",
       "  </thead>\n",
       "  <tbody>\n",
       "    <tr>\n",
       "      <th>3378</th>\n",
       "      <td>1975-02-23T02:58:41.000Z</td>\n",
       "      <td>1975-02-23T02:58:41.000Z</td>\n",
       "      <td>8.017</td>\n",
       "      <td>124.075</td>\n",
       "      <td>Earthquake</td>\n",
       "      <td>623.0</td>\n",
       "      <td>NaN</td>\n",
       "      <td>NaN</td>\n",
       "      <td>5.6</td>\n",
       "      <td>MB</td>\n",
       "      <td>...</td>\n",
       "      <td>NaN</td>\n",
       "      <td>NaN</td>\n",
       "      <td>NaN</td>\n",
       "      <td>NaN</td>\n",
       "      <td>USP0000A09</td>\n",
       "      <td>US</td>\n",
       "      <td>US</td>\n",
       "      <td>US</td>\n",
       "      <td>Reviewed</td>\n",
       "      <td>1975-02-23 02:58:41+00:00</td>\n",
       "    </tr>\n",
       "    <tr>\n",
       "      <th>7512</th>\n",
       "      <td>1985-04-28T02:53:41.530Z</td>\n",
       "      <td>1985-04-28T02:53:41.530Z</td>\n",
       "      <td>-32.998</td>\n",
       "      <td>-71.766</td>\n",
       "      <td>Earthquake</td>\n",
       "      <td>33.0</td>\n",
       "      <td>NaN</td>\n",
       "      <td>NaN</td>\n",
       "      <td>5.6</td>\n",
       "      <td>MW</td>\n",
       "      <td>...</td>\n",
       "      <td>NaN</td>\n",
       "      <td>NaN</td>\n",
       "      <td>NaN</td>\n",
       "      <td>1.30</td>\n",
       "      <td>USP0002E81</td>\n",
       "      <td>US</td>\n",
       "      <td>US</td>\n",
       "      <td>HRV</td>\n",
       "      <td>Reviewed</td>\n",
       "      <td>1985-04-28 02:53:41.530000+00:00</td>\n",
       "    </tr>\n",
       "    <tr>\n",
       "      <th>20650</th>\n",
       "      <td>2011-03-13T02:23:34.520Z</td>\n",
       "      <td>2011-03-13T02:23:34.520Z</td>\n",
       "      <td>36.344</td>\n",
       "      <td>142.344</td>\n",
       "      <td>Earthquake</td>\n",
       "      <td>10.1</td>\n",
       "      <td>13.9</td>\n",
       "      <td>289.0</td>\n",
       "      <td>5.8</td>\n",
       "      <td>MWC</td>\n",
       "      <td>...</td>\n",
       "      <td>32.3</td>\n",
       "      <td>NaN</td>\n",
       "      <td>NaN</td>\n",
       "      <td>1.06</td>\n",
       "      <td>USP000HWQP</td>\n",
       "      <td>US</td>\n",
       "      <td>US</td>\n",
       "      <td>GCMT</td>\n",
       "      <td>Reviewed</td>\n",
       "      <td>2011-03-13 02:23:34.520000+00:00</td>\n",
       "    </tr>\n",
       "  </tbody>\n",
       "</table>\n",
       "<p>3 rows × 22 columns</p>\n",
       "</div>"
      ],
      "text/plain": [
       "                           Date                      Time  Latitude  \\\n",
       "3378   1975-02-23T02:58:41.000Z  1975-02-23T02:58:41.000Z     8.017   \n",
       "7512   1985-04-28T02:53:41.530Z  1985-04-28T02:53:41.530Z   -32.998   \n",
       "20650  2011-03-13T02:23:34.520Z  2011-03-13T02:23:34.520Z    36.344   \n",
       "\n",
       "       Longitude        Type  Depth  Depth Error  Depth Seismic Stations  \\\n",
       "3378     124.075  Earthquake  623.0          NaN                     NaN   \n",
       "7512     -71.766  Earthquake   33.0          NaN                     NaN   \n",
       "20650    142.344  Earthquake   10.1         13.9                   289.0   \n",
       "\n",
       "       Magnitude Magnitude Type  ...  Azimuthal Gap  Horizontal Distance  \\\n",
       "3378         5.6             MB  ...            NaN                  NaN   \n",
       "7512         5.6             MW  ...            NaN                  NaN   \n",
       "20650        5.8            MWC  ...           32.3                  NaN   \n",
       "\n",
       "       Horizontal Error  Root Mean Square          ID  Source Location Source  \\\n",
       "3378                NaN               NaN  USP0000A09      US              US   \n",
       "7512                NaN              1.30  USP0002E81      US              US   \n",
       "20650               NaN              1.06  USP000HWQP      US              US   \n",
       "\n",
       "      Magnitude Source    Status                           NewDate  \n",
       "3378                US  Reviewed         1975-02-23 02:58:41+00:00  \n",
       "7512               HRV  Reviewed  1985-04-28 02:53:41.530000+00:00  \n",
       "20650             GCMT  Reviewed  2011-03-13 02:23:34.520000+00:00  \n",
       "\n",
       "[3 rows x 22 columns]"
      ]
     },
     "execution_count": 5,
     "metadata": {},
     "output_type": "execute_result"
    }
   ],
   "source": [
    "df_date[df_date['Date'].str.len()>10]"
   ]
  },
  {
   "cell_type": "code",
   "execution_count": 4,
   "id": "784511b8",
   "metadata": {},
   "outputs": [],
   "source": [
    "df_date['Date'] = df_date['Date'].apply(lambda x: x[:10])"
   ]
  },
  {
   "cell_type": "code",
   "execution_count": 14,
   "id": "0ac2f903",
   "metadata": {},
   "outputs": [
    {
     "data": {
      "text/html": [
       "<div>\n",
       "<style scoped>\n",
       "    .dataframe tbody tr th:only-of-type {\n",
       "        vertical-align: middle;\n",
       "    }\n",
       "\n",
       "    .dataframe tbody tr th {\n",
       "        vertical-align: top;\n",
       "    }\n",
       "\n",
       "    .dataframe thead th {\n",
       "        text-align: right;\n",
       "    }\n",
       "</style>\n",
       "<table border=\"1\" class=\"dataframe\">\n",
       "  <thead>\n",
       "    <tr style=\"text-align: right;\">\n",
       "      <th></th>\n",
       "      <th>Date</th>\n",
       "      <th>Time</th>\n",
       "      <th>Latitude</th>\n",
       "      <th>Longitude</th>\n",
       "      <th>Type</th>\n",
       "      <th>Depth</th>\n",
       "      <th>Depth Error</th>\n",
       "      <th>Depth Seismic Stations</th>\n",
       "      <th>Magnitude</th>\n",
       "      <th>Magnitude Type</th>\n",
       "      <th>...</th>\n",
       "      <th>Azimuthal Gap</th>\n",
       "      <th>Horizontal Distance</th>\n",
       "      <th>Horizontal Error</th>\n",
       "      <th>Root Mean Square</th>\n",
       "      <th>ID</th>\n",
       "      <th>Source</th>\n",
       "      <th>Location Source</th>\n",
       "      <th>Magnitude Source</th>\n",
       "      <th>Status</th>\n",
       "      <th>NewDate</th>\n",
       "    </tr>\n",
       "  </thead>\n",
       "  <tbody>\n",
       "  </tbody>\n",
       "</table>\n",
       "<p>0 rows × 22 columns</p>\n",
       "</div>"
      ],
      "text/plain": [
       "Empty DataFrame\n",
       "Columns: [Date, Time, Latitude, Longitude, Type, Depth, Depth Error, Depth Seismic Stations, Magnitude, Magnitude Type, Magnitude Error, Magnitude Seismic Stations, Azimuthal Gap, Horizontal Distance, Horizontal Error, Root Mean Square, ID, Source, Location Source, Magnitude Source, Status, NewDate]\n",
       "Index: []\n",
       "\n",
       "[0 rows x 22 columns]"
      ]
     },
     "execution_count": 14,
     "metadata": {},
     "output_type": "execute_result"
    }
   ],
   "source": [
    "df_date[df_date['Date'].str.len()>10]"
   ]
  },
  {
   "cell_type": "code",
   "execution_count": 15,
   "id": "03ba05d5",
   "metadata": {},
   "outputs": [
    {
     "data": {
      "text/plain": [
       "Date                                         1975-02-23\n",
       "Time                           1975-02-23T02:58:41.000Z\n",
       "Latitude                                          8.017\n",
       "Longitude                                       124.075\n",
       "Type                                         Earthquake\n",
       "Depth                                             623.0\n",
       "Depth Error                                         NaN\n",
       "Depth Seismic Stations                              NaN\n",
       "Magnitude                                           5.6\n",
       "Magnitude Type                                       MB\n",
       "Magnitude Error                                     NaN\n",
       "Magnitude Seismic Stations                          NaN\n",
       "Azimuthal Gap                                       NaN\n",
       "Horizontal Distance                                 NaN\n",
       "Horizontal Error                                    NaN\n",
       "Root Mean Square                                    NaN\n",
       "ID                                           USP0000A09\n",
       "Source                                               US\n",
       "Location Source                                      US\n",
       "Magnitude Source                                     US\n",
       "Status                                         Reviewed\n",
       "NewDate                       1975-02-23 02:58:41+00:00\n",
       "Name: 3378, dtype: object"
      ]
     },
     "execution_count": 15,
     "metadata": {},
     "output_type": "execute_result"
    }
   ],
   "source": [
    "df_date.iloc[3378]"
   ]
  },
  {
   "cell_type": "code",
   "execution_count": 5,
   "id": "4803d369",
   "metadata": {},
   "outputs": [],
   "source": [
    "df_date['NewDate'] = pd.to_datetime(df_date['Date']) "
   ]
  },
  {
   "cell_type": "code",
   "execution_count": 6,
   "id": "6d589f87",
   "metadata": {},
   "outputs": [
    {
     "data": {
      "text/plain": [
       "Date                                  object\n",
       "Time                                  object\n",
       "Latitude                             float64\n",
       "Longitude                            float64\n",
       "Type                                  object\n",
       "Depth                                float64\n",
       "Depth Error                          float64\n",
       "Depth Seismic Stations               float64\n",
       "Magnitude                            float64\n",
       "Magnitude Type                        object\n",
       "Magnitude Error                      float64\n",
       "Magnitude Seismic Stations           float64\n",
       "Azimuthal Gap                        float64\n",
       "Horizontal Distance                  float64\n",
       "Horizontal Error                     float64\n",
       "Root Mean Square                     float64\n",
       "ID                                    object\n",
       "Source                                object\n",
       "Location Source                       object\n",
       "Magnitude Source                      object\n",
       "Status                                object\n",
       "NewDate                       datetime64[ns]\n",
       "dtype: object"
      ]
     },
     "execution_count": 6,
     "metadata": {},
     "output_type": "execute_result"
    }
   ],
   "source": [
    "df_date.dtypes"
   ]
  },
  {
   "cell_type": "code",
   "execution_count": 20,
   "id": "1425b75a",
   "metadata": {
    "collapsed": true
   },
   "outputs": [
    {
     "data": {
      "text/plain": [
       "Date                                   01/10/1965\n",
       "Time                                     13:36:32\n",
       "Latitude                                  -13.405\n",
       "Longitude                                 166.629\n",
       "Type                                   Earthquake\n",
       "Depth                                        35.0\n",
       "Depth Error                                   NaN\n",
       "Depth Seismic Stations                        NaN\n",
       "Magnitude                                     6.7\n",
       "Magnitude Type                                 MW\n",
       "Magnitude Error                               NaN\n",
       "Magnitude Seismic Stations                    NaN\n",
       "Azimuthal Gap                                 NaN\n",
       "Horizontal Distance                           NaN\n",
       "Horizontal Error                              NaN\n",
       "Root Mean Square                              NaN\n",
       "ID                                   ISCGEM860922\n",
       "Source                                     ISCGEM\n",
       "Location Source                            ISCGEM\n",
       "Magnitude Source                           ISCGEM\n",
       "Status                                  Automatic\n",
       "NewDate                       1965-01-10 00:00:00\n",
       "Name: 5, dtype: object"
      ]
     },
     "execution_count": 20,
     "metadata": {},
     "output_type": "execute_result"
    }
   ],
   "source": [
    "df_date.iloc[5]"
   ]
  },
  {
   "cell_type": "code",
   "execution_count": 14,
   "id": "f52fb039",
   "metadata": {},
   "outputs": [],
   "source": [
    "df_date['QuakeDay'] = df_date['NewDate'].dt.day"
   ]
  },
  {
   "cell_type": "code",
   "execution_count": 20,
   "id": "be7ece9a",
   "metadata": {},
   "outputs": [],
   "source": [
    "df_date['QuakeMonth'] = df_date['NewDate'].dt.month"
   ]
  },
  {
   "cell_type": "code",
   "execution_count": 21,
   "id": "ce6a954e",
   "metadata": {},
   "outputs": [],
   "source": [
    "df_date['QuakeYear'] = df_date['NewDate'].dt.year"
   ]
  },
  {
   "cell_type": "code",
   "execution_count": 11,
   "id": "64bfc290",
   "metadata": {},
   "outputs": [
    {
     "data": {
      "text/plain": [
       "0        1\n",
       "1        1\n",
       "2        1\n",
       "3        1\n",
       "4        1\n",
       "        ..\n",
       "23407    4\n",
       "23408    4\n",
       "23409    4\n",
       "23410    4\n",
       "23411    4\n",
       "Name: NewDate, Length: 23412, dtype: int64"
      ]
     },
     "execution_count": 11,
     "metadata": {},
     "output_type": "execute_result"
    }
   ],
   "source": [
    "df_date['NewDate'].dt.quarter()"
   ]
  },
  {
   "cell_type": "code",
   "execution_count": 13,
   "id": "a0e06068",
   "metadata": {},
   "outputs": [
    {
     "data": {
      "text/plain": [
       "Index(['Date', 'Time', 'Latitude', 'Longitude', 'Type', 'Depth', 'Depth Error',\n",
       "       'Depth Seismic Stations', 'Magnitude', 'Magnitude Type',\n",
       "       'Magnitude Error', 'Magnitude Seismic Stations', 'Azimuthal Gap',\n",
       "       'Horizontal Distance', 'Horizontal Error', 'Root Mean Square', 'ID',\n",
       "       'Source', 'Location Source', 'Magnitude Source', 'Status', 'NewDate'],\n",
       "      dtype='object')"
      ]
     },
     "execution_count": 13,
     "metadata": {},
     "output_type": "execute_result"
    }
   ],
   "source": [
    "df_date.columns"
   ]
  },
  {
   "cell_type": "code",
   "execution_count": 18,
   "id": "c181914f",
   "metadata": {
    "collapsed": true
   },
   "outputs": [
    {
     "ename": "KeyboardInterrupt",
     "evalue": "",
     "output_type": "error",
     "traceback": [
      "\u001b[1;31m---------------------------------------------------------------------------\u001b[0m",
      "\u001b[1;31mKeyboardInterrupt\u001b[0m                         Traceback (most recent call last)",
      "\u001b[1;32m~\\AppData\\Local\\Temp/ipykernel_5992/987438591.py\u001b[0m in \u001b[0;36m<module>\u001b[1;34m\u001b[0m\n\u001b[1;32m----> 1\u001b[1;33m \u001b[0msns\u001b[0m\u001b[1;33m.\u001b[0m\u001b[0mlineplot\u001b[0m\u001b[1;33m(\u001b[0m\u001b[0mdata\u001b[0m \u001b[1;33m=\u001b[0m \u001b[0mdf_date\u001b[0m\u001b[1;33m,\u001b[0m \u001b[0mx\u001b[0m \u001b[1;33m=\u001b[0m \u001b[1;34m'NewDate'\u001b[0m\u001b[1;33m,\u001b[0m \u001b[0my\u001b[0m \u001b[1;33m=\u001b[0m \u001b[1;34m'Magnitude'\u001b[0m\u001b[1;33m)\u001b[0m\u001b[1;33m\u001b[0m\u001b[1;33m\u001b[0m\u001b[0m\n\u001b[0m",
      "\u001b[1;32mC:\\ProgramData\\Anaconda3\\lib\\site-packages\\seaborn\\_decorators.py\u001b[0m in \u001b[0;36minner_f\u001b[1;34m(*args, **kwargs)\u001b[0m\n\u001b[0;32m     44\u001b[0m             )\n\u001b[0;32m     45\u001b[0m         \u001b[0mkwargs\u001b[0m\u001b[1;33m.\u001b[0m\u001b[0mupdate\u001b[0m\u001b[1;33m(\u001b[0m\u001b[1;33m{\u001b[0m\u001b[0mk\u001b[0m\u001b[1;33m:\u001b[0m \u001b[0marg\u001b[0m \u001b[1;32mfor\u001b[0m \u001b[0mk\u001b[0m\u001b[1;33m,\u001b[0m \u001b[0marg\u001b[0m \u001b[1;32min\u001b[0m \u001b[0mzip\u001b[0m\u001b[1;33m(\u001b[0m\u001b[0msig\u001b[0m\u001b[1;33m.\u001b[0m\u001b[0mparameters\u001b[0m\u001b[1;33m,\u001b[0m \u001b[0margs\u001b[0m\u001b[1;33m)\u001b[0m\u001b[1;33m}\u001b[0m\u001b[1;33m)\u001b[0m\u001b[1;33m\u001b[0m\u001b[1;33m\u001b[0m\u001b[0m\n\u001b[1;32m---> 46\u001b[1;33m         \u001b[1;32mreturn\u001b[0m \u001b[0mf\u001b[0m\u001b[1;33m(\u001b[0m\u001b[1;33m**\u001b[0m\u001b[0mkwargs\u001b[0m\u001b[1;33m)\u001b[0m\u001b[1;33m\u001b[0m\u001b[1;33m\u001b[0m\u001b[0m\n\u001b[0m\u001b[0;32m     47\u001b[0m     \u001b[1;32mreturn\u001b[0m \u001b[0minner_f\u001b[0m\u001b[1;33m\u001b[0m\u001b[1;33m\u001b[0m\u001b[0m\n\u001b[0;32m     48\u001b[0m \u001b[1;33m\u001b[0m\u001b[0m\n",
      "\u001b[1;32mC:\\ProgramData\\Anaconda3\\lib\\site-packages\\seaborn\\relational.py\u001b[0m in \u001b[0;36mlineplot\u001b[1;34m(x, y, hue, size, style, data, palette, hue_order, hue_norm, sizes, size_order, size_norm, dashes, markers, style_order, units, estimator, ci, n_boot, seed, sort, err_style, err_kws, legend, ax, **kwargs)\u001b[0m\n\u001b[0;32m    708\u001b[0m     \u001b[0mp\u001b[0m\u001b[1;33m.\u001b[0m\u001b[0m_attach\u001b[0m\u001b[1;33m(\u001b[0m\u001b[0max\u001b[0m\u001b[1;33m)\u001b[0m\u001b[1;33m\u001b[0m\u001b[1;33m\u001b[0m\u001b[0m\n\u001b[0;32m    709\u001b[0m \u001b[1;33m\u001b[0m\u001b[0m\n\u001b[1;32m--> 710\u001b[1;33m     \u001b[0mp\u001b[0m\u001b[1;33m.\u001b[0m\u001b[0mplot\u001b[0m\u001b[1;33m(\u001b[0m\u001b[0max\u001b[0m\u001b[1;33m,\u001b[0m \u001b[0mkwargs\u001b[0m\u001b[1;33m)\u001b[0m\u001b[1;33m\u001b[0m\u001b[1;33m\u001b[0m\u001b[0m\n\u001b[0m\u001b[0;32m    711\u001b[0m     \u001b[1;32mreturn\u001b[0m \u001b[0max\u001b[0m\u001b[1;33m\u001b[0m\u001b[1;33m\u001b[0m\u001b[0m\n\u001b[0;32m    712\u001b[0m \u001b[1;33m\u001b[0m\u001b[0m\n",
      "\u001b[1;32mC:\\ProgramData\\Anaconda3\\lib\\site-packages\\seaborn\\relational.py\u001b[0m in \u001b[0;36mplot\u001b[1;34m(self, ax, kws)\u001b[0m\n\u001b[0;32m    497\u001b[0m                     \u001b[0merr\u001b[0m \u001b[1;33m=\u001b[0m \u001b[1;34m\"estimator must be None when specifying units\"\u001b[0m\u001b[1;33m\u001b[0m\u001b[1;33m\u001b[0m\u001b[0m\n\u001b[0;32m    498\u001b[0m                     \u001b[1;32mraise\u001b[0m \u001b[0mValueError\u001b[0m\u001b[1;33m(\u001b[0m\u001b[0merr\u001b[0m\u001b[1;33m)\u001b[0m\u001b[1;33m\u001b[0m\u001b[1;33m\u001b[0m\u001b[0m\n\u001b[1;32m--> 499\u001b[1;33m                 \u001b[0mx\u001b[0m\u001b[1;33m,\u001b[0m \u001b[0my\u001b[0m\u001b[1;33m,\u001b[0m \u001b[0my_ci\u001b[0m \u001b[1;33m=\u001b[0m \u001b[0mself\u001b[0m\u001b[1;33m.\u001b[0m\u001b[0maggregate\u001b[0m\u001b[1;33m(\u001b[0m\u001b[0my\u001b[0m\u001b[1;33m,\u001b[0m \u001b[0mx\u001b[0m\u001b[1;33m,\u001b[0m \u001b[0mu\u001b[0m\u001b[1;33m)\u001b[0m\u001b[1;33m\u001b[0m\u001b[1;33m\u001b[0m\u001b[0m\n\u001b[0m\u001b[0;32m    500\u001b[0m             \u001b[1;32melse\u001b[0m\u001b[1;33m:\u001b[0m\u001b[1;33m\u001b[0m\u001b[1;33m\u001b[0m\u001b[0m\n\u001b[0;32m    501\u001b[0m                 \u001b[0my_ci\u001b[0m \u001b[1;33m=\u001b[0m \u001b[1;32mNone\u001b[0m\u001b[1;33m\u001b[0m\u001b[1;33m\u001b[0m\u001b[0m\n",
      "\u001b[1;32mC:\\ProgramData\\Anaconda3\\lib\\site-packages\\seaborn\\relational.py\u001b[0m in \u001b[0;36maggregate\u001b[1;34m(self, vals, grouper, units)\u001b[0m\n\u001b[0;32m    412\u001b[0m                                columns=[\"low\", \"high\"]).stack()\n\u001b[0;32m    413\u001b[0m         \u001b[1;32melse\u001b[0m\u001b[1;33m:\u001b[0m\u001b[1;33m\u001b[0m\u001b[1;33m\u001b[0m\u001b[0m\n\u001b[1;32m--> 414\u001b[1;33m             \u001b[0mcis\u001b[0m \u001b[1;33m=\u001b[0m \u001b[0mgrouped\u001b[0m\u001b[1;33m.\u001b[0m\u001b[0mapply\u001b[0m\u001b[1;33m(\u001b[0m\u001b[0mbootstrapped_cis\u001b[0m\u001b[1;33m)\u001b[0m\u001b[1;33m\u001b[0m\u001b[1;33m\u001b[0m\u001b[0m\n\u001b[0m\u001b[0;32m    415\u001b[0m \u001b[1;33m\u001b[0m\u001b[0m\n\u001b[0;32m    416\u001b[0m         \u001b[1;31m# Unpack the CIs into \"wide\" format for plotting\u001b[0m\u001b[1;33m\u001b[0m\u001b[1;33m\u001b[0m\u001b[0m\n",
      "\u001b[1;32mC:\\ProgramData\\Anaconda3\\lib\\site-packages\\pandas\\core\\groupby\\generic.py\u001b[0m in \u001b[0;36mapply\u001b[1;34m(self, func, *args, **kwargs)\u001b[0m\n\u001b[0;32m    221\u001b[0m     )\n\u001b[0;32m    222\u001b[0m     \u001b[1;32mdef\u001b[0m \u001b[0mapply\u001b[0m\u001b[1;33m(\u001b[0m\u001b[0mself\u001b[0m\u001b[1;33m,\u001b[0m \u001b[0mfunc\u001b[0m\u001b[1;33m,\u001b[0m \u001b[1;33m*\u001b[0m\u001b[0margs\u001b[0m\u001b[1;33m,\u001b[0m \u001b[1;33m**\u001b[0m\u001b[0mkwargs\u001b[0m\u001b[1;33m)\u001b[0m\u001b[1;33m:\u001b[0m\u001b[1;33m\u001b[0m\u001b[1;33m\u001b[0m\u001b[0m\n\u001b[1;32m--> 223\u001b[1;33m         \u001b[1;32mreturn\u001b[0m \u001b[0msuper\u001b[0m\u001b[1;33m(\u001b[0m\u001b[1;33m)\u001b[0m\u001b[1;33m.\u001b[0m\u001b[0mapply\u001b[0m\u001b[1;33m(\u001b[0m\u001b[0mfunc\u001b[0m\u001b[1;33m,\u001b[0m \u001b[1;33m*\u001b[0m\u001b[0margs\u001b[0m\u001b[1;33m,\u001b[0m \u001b[1;33m**\u001b[0m\u001b[0mkwargs\u001b[0m\u001b[1;33m)\u001b[0m\u001b[1;33m\u001b[0m\u001b[1;33m\u001b[0m\u001b[0m\n\u001b[0m\u001b[0;32m    224\u001b[0m \u001b[1;33m\u001b[0m\u001b[0m\n\u001b[0;32m    225\u001b[0m     \u001b[1;33m@\u001b[0m\u001b[0mdoc\u001b[0m\u001b[1;33m(\u001b[0m\u001b[0m_agg_template\u001b[0m\u001b[1;33m,\u001b[0m \u001b[0mexamples\u001b[0m\u001b[1;33m=\u001b[0m\u001b[0m_agg_examples_doc\u001b[0m\u001b[1;33m,\u001b[0m \u001b[0mklass\u001b[0m\u001b[1;33m=\u001b[0m\u001b[1;34m\"Series\"\u001b[0m\u001b[1;33m)\u001b[0m\u001b[1;33m\u001b[0m\u001b[1;33m\u001b[0m\u001b[0m\n",
      "\u001b[1;32mC:\\ProgramData\\Anaconda3\\lib\\site-packages\\pandas\\core\\groupby\\groupby.py\u001b[0m in \u001b[0;36mapply\u001b[1;34m(self, func, *args, **kwargs)\u001b[0m\n\u001b[0;32m   1273\u001b[0m         \u001b[1;32mwith\u001b[0m \u001b[0moption_context\u001b[0m\u001b[1;33m(\u001b[0m\u001b[1;34m\"mode.chained_assignment\"\u001b[0m\u001b[1;33m,\u001b[0m \u001b[1;32mNone\u001b[0m\u001b[1;33m)\u001b[0m\u001b[1;33m:\u001b[0m\u001b[1;33m\u001b[0m\u001b[1;33m\u001b[0m\u001b[0m\n\u001b[0;32m   1274\u001b[0m             \u001b[1;32mtry\u001b[0m\u001b[1;33m:\u001b[0m\u001b[1;33m\u001b[0m\u001b[1;33m\u001b[0m\u001b[0m\n\u001b[1;32m-> 1275\u001b[1;33m                 \u001b[0mresult\u001b[0m \u001b[1;33m=\u001b[0m \u001b[0mself\u001b[0m\u001b[1;33m.\u001b[0m\u001b[0m_python_apply_general\u001b[0m\u001b[1;33m(\u001b[0m\u001b[0mf\u001b[0m\u001b[1;33m,\u001b[0m \u001b[0mself\u001b[0m\u001b[1;33m.\u001b[0m\u001b[0m_selected_obj\u001b[0m\u001b[1;33m)\u001b[0m\u001b[1;33m\u001b[0m\u001b[1;33m\u001b[0m\u001b[0m\n\u001b[0m\u001b[0;32m   1276\u001b[0m             \u001b[1;32mexcept\u001b[0m \u001b[0mTypeError\u001b[0m\u001b[1;33m:\u001b[0m\u001b[1;33m\u001b[0m\u001b[1;33m\u001b[0m\u001b[0m\n\u001b[0;32m   1277\u001b[0m                 \u001b[1;31m# gh-20949\u001b[0m\u001b[1;33m\u001b[0m\u001b[1;33m\u001b[0m\u001b[0m\n",
      "\u001b[1;32mC:\\ProgramData\\Anaconda3\\lib\\site-packages\\pandas\\core\\groupby\\groupby.py\u001b[0m in \u001b[0;36m_python_apply_general\u001b[1;34m(self, f, data)\u001b[0m\n\u001b[0;32m   1307\u001b[0m             \u001b[0mdata\u001b[0m \u001b[0mafter\u001b[0m \u001b[0mapplying\u001b[0m \u001b[0mf\u001b[0m\u001b[1;33m\u001b[0m\u001b[1;33m\u001b[0m\u001b[0m\n\u001b[0;32m   1308\u001b[0m         \"\"\"\n\u001b[1;32m-> 1309\u001b[1;33m         \u001b[0mkeys\u001b[0m\u001b[1;33m,\u001b[0m \u001b[0mvalues\u001b[0m\u001b[1;33m,\u001b[0m \u001b[0mmutated\u001b[0m \u001b[1;33m=\u001b[0m \u001b[0mself\u001b[0m\u001b[1;33m.\u001b[0m\u001b[0mgrouper\u001b[0m\u001b[1;33m.\u001b[0m\u001b[0mapply\u001b[0m\u001b[1;33m(\u001b[0m\u001b[0mf\u001b[0m\u001b[1;33m,\u001b[0m \u001b[0mdata\u001b[0m\u001b[1;33m,\u001b[0m \u001b[0mself\u001b[0m\u001b[1;33m.\u001b[0m\u001b[0maxis\u001b[0m\u001b[1;33m)\u001b[0m\u001b[1;33m\u001b[0m\u001b[1;33m\u001b[0m\u001b[0m\n\u001b[0m\u001b[0;32m   1310\u001b[0m \u001b[1;33m\u001b[0m\u001b[0m\n\u001b[0;32m   1311\u001b[0m         return self._wrap_applied_output(\n",
      "\u001b[1;32mC:\\ProgramData\\Anaconda3\\lib\\site-packages\\pandas\\core\\groupby\\ops.py\u001b[0m in \u001b[0;36mapply\u001b[1;34m(self, f, data, axis)\u001b[0m\n\u001b[0;32m    839\u001b[0m             \u001b[1;31m# group might be modified\u001b[0m\u001b[1;33m\u001b[0m\u001b[1;33m\u001b[0m\u001b[0m\n\u001b[0;32m    840\u001b[0m             \u001b[0mgroup_axes\u001b[0m \u001b[1;33m=\u001b[0m \u001b[0mgroup\u001b[0m\u001b[1;33m.\u001b[0m\u001b[0maxes\u001b[0m\u001b[1;33m\u001b[0m\u001b[1;33m\u001b[0m\u001b[0m\n\u001b[1;32m--> 841\u001b[1;33m             \u001b[0mres\u001b[0m \u001b[1;33m=\u001b[0m \u001b[0mf\u001b[0m\u001b[1;33m(\u001b[0m\u001b[0mgroup\u001b[0m\u001b[1;33m)\u001b[0m\u001b[1;33m\u001b[0m\u001b[1;33m\u001b[0m\u001b[0m\n\u001b[0m\u001b[0;32m    842\u001b[0m             \u001b[1;32mif\u001b[0m \u001b[1;32mnot\u001b[0m \u001b[0m_is_indexed_like\u001b[0m\u001b[1;33m(\u001b[0m\u001b[0mres\u001b[0m\u001b[1;33m,\u001b[0m \u001b[0mgroup_axes\u001b[0m\u001b[1;33m,\u001b[0m \u001b[0maxis\u001b[0m\u001b[1;33m)\u001b[0m\u001b[1;33m:\u001b[0m\u001b[1;33m\u001b[0m\u001b[1;33m\u001b[0m\u001b[0m\n\u001b[0;32m    843\u001b[0m                 \u001b[0mmutated\u001b[0m \u001b[1;33m=\u001b[0m \u001b[1;32mTrue\u001b[0m\u001b[1;33m\u001b[0m\u001b[1;33m\u001b[0m\u001b[0m\n",
      "\u001b[1;32mC:\\ProgramData\\Anaconda3\\lib\\site-packages\\seaborn\\relational.py\u001b[0m in \u001b[0;36mbootstrapped_cis\u001b[1;34m(vals)\u001b[0m\n\u001b[0;32m    393\u001b[0m                 \u001b[1;32mreturn\u001b[0m \u001b[0mnull_ci\u001b[0m\u001b[1;33m\u001b[0m\u001b[1;33m\u001b[0m\u001b[0m\n\u001b[0;32m    394\u001b[0m \u001b[1;33m\u001b[0m\u001b[0m\n\u001b[1;32m--> 395\u001b[1;33m             \u001b[0mboots\u001b[0m \u001b[1;33m=\u001b[0m \u001b[0mbootstrap\u001b[0m\u001b[1;33m(\u001b[0m\u001b[0mvals\u001b[0m\u001b[1;33m,\u001b[0m \u001b[0mfunc\u001b[0m\u001b[1;33m=\u001b[0m\u001b[0mfunc\u001b[0m\u001b[1;33m,\u001b[0m \u001b[0mn_boot\u001b[0m\u001b[1;33m=\u001b[0m\u001b[0mn_boot\u001b[0m\u001b[1;33m,\u001b[0m \u001b[0mseed\u001b[0m\u001b[1;33m=\u001b[0m\u001b[0mseed\u001b[0m\u001b[1;33m)\u001b[0m\u001b[1;33m\u001b[0m\u001b[1;33m\u001b[0m\u001b[0m\n\u001b[0m\u001b[0;32m    396\u001b[0m             \u001b[0mcis\u001b[0m \u001b[1;33m=\u001b[0m \u001b[0mci_func\u001b[0m\u001b[1;33m(\u001b[0m\u001b[0mboots\u001b[0m\u001b[1;33m,\u001b[0m \u001b[0mci\u001b[0m\u001b[1;33m)\u001b[0m\u001b[1;33m\u001b[0m\u001b[1;33m\u001b[0m\u001b[0m\n\u001b[0;32m    397\u001b[0m             \u001b[1;32mreturn\u001b[0m \u001b[0mpd\u001b[0m\u001b[1;33m.\u001b[0m\u001b[0mSeries\u001b[0m\u001b[1;33m(\u001b[0m\u001b[0mcis\u001b[0m\u001b[1;33m,\u001b[0m \u001b[1;33m[\u001b[0m\u001b[1;34m\"low\"\u001b[0m\u001b[1;33m,\u001b[0m \u001b[1;34m\"high\"\u001b[0m\u001b[1;33m]\u001b[0m\u001b[1;33m)\u001b[0m\u001b[1;33m\u001b[0m\u001b[1;33m\u001b[0m\u001b[0m\n",
      "\u001b[1;32mC:\\ProgramData\\Anaconda3\\lib\\site-packages\\seaborn\\algorithms.py\u001b[0m in \u001b[0;36mbootstrap\u001b[1;34m(*args, **kwargs)\u001b[0m\n\u001b[0;32m     81\u001b[0m     \u001b[0mboot_dist\u001b[0m \u001b[1;33m=\u001b[0m \u001b[1;33m[\u001b[0m\u001b[1;33m]\u001b[0m\u001b[1;33m\u001b[0m\u001b[1;33m\u001b[0m\u001b[0m\n\u001b[0;32m     82\u001b[0m     \u001b[1;32mfor\u001b[0m \u001b[0mi\u001b[0m \u001b[1;32min\u001b[0m \u001b[0mrange\u001b[0m\u001b[1;33m(\u001b[0m\u001b[0mint\u001b[0m\u001b[1;33m(\u001b[0m\u001b[0mn_boot\u001b[0m\u001b[1;33m)\u001b[0m\u001b[1;33m)\u001b[0m\u001b[1;33m:\u001b[0m\u001b[1;33m\u001b[0m\u001b[1;33m\u001b[0m\u001b[0m\n\u001b[1;32m---> 83\u001b[1;33m         \u001b[0mresampler\u001b[0m \u001b[1;33m=\u001b[0m \u001b[0mintegers\u001b[0m\u001b[1;33m(\u001b[0m\u001b[1;36m0\u001b[0m\u001b[1;33m,\u001b[0m \u001b[0mn\u001b[0m\u001b[1;33m,\u001b[0m \u001b[0mn\u001b[0m\u001b[1;33m,\u001b[0m \u001b[0mdtype\u001b[0m\u001b[1;33m=\u001b[0m\u001b[0mnp\u001b[0m\u001b[1;33m.\u001b[0m\u001b[0mintp\u001b[0m\u001b[1;33m)\u001b[0m  \u001b[1;31m# intp is indexing dtype\u001b[0m\u001b[1;33m\u001b[0m\u001b[1;33m\u001b[0m\u001b[0m\n\u001b[0m\u001b[0;32m     84\u001b[0m         \u001b[0msample\u001b[0m \u001b[1;33m=\u001b[0m \u001b[1;33m[\u001b[0m\u001b[0ma\u001b[0m\u001b[1;33m.\u001b[0m\u001b[0mtake\u001b[0m\u001b[1;33m(\u001b[0m\u001b[0mresampler\u001b[0m\u001b[1;33m,\u001b[0m \u001b[0maxis\u001b[0m\u001b[1;33m=\u001b[0m\u001b[1;36m0\u001b[0m\u001b[1;33m)\u001b[0m \u001b[1;32mfor\u001b[0m \u001b[0ma\u001b[0m \u001b[1;32min\u001b[0m \u001b[0margs\u001b[0m\u001b[1;33m]\u001b[0m\u001b[1;33m\u001b[0m\u001b[1;33m\u001b[0m\u001b[0m\n\u001b[0;32m     85\u001b[0m         \u001b[0mboot_dist\u001b[0m\u001b[1;33m.\u001b[0m\u001b[0mappend\u001b[0m\u001b[1;33m(\u001b[0m\u001b[0mf\u001b[0m\u001b[1;33m(\u001b[0m\u001b[1;33m*\u001b[0m\u001b[0msample\u001b[0m\u001b[1;33m,\u001b[0m \u001b[1;33m**\u001b[0m\u001b[0mfunc_kwargs\u001b[0m\u001b[1;33m)\u001b[0m\u001b[1;33m)\u001b[0m\u001b[1;33m\u001b[0m\u001b[1;33m\u001b[0m\u001b[0m\n",
      "\u001b[1;31mKeyboardInterrupt\u001b[0m: "
     ]
    },
    {
     "data": {
      "image/png": "[encoded data removed]",
      "text/plain": [
       "<Figure size 432x288 with 1 Axes>"
      ]
     },
     "metadata": {
      "needs_background": "light"
     },
     "output_type": "display_data"
    }
   ],
   "source": [
    "sns.lineplot(data = df_date, x = 'NewDate', y = 'Magnitude')"
   ]
  },
  {
   "cell_type": "code",
   "execution_count": 17,
   "id": "94a03e6a",
   "metadata": {},
   "outputs": [
    {
     "data": {
      "text/plain": [
       "<AxesSubplot:xlabel='QuakeDay', ylabel='Magnitude'>"
      ]
     },
     "execution_count": 17,
     "metadata": {},
     "output_type": "execute_result"
    },
    {
     "data": {
      "image/png": "[encoded data removed]",
      "text/plain": [
       "<Figure size 432x288 with 1 Axes>"
      ]
     },
     "metadata": {
      "needs_background": "light"
     },
     "output_type": "display_data"
    }
   ],
   "source": [
    "sns.lineplot(data = df_date, x = 'QuakeDay', y = 'Magnitude')"
   ]
  },
  {
   "cell_type": "code",
   "execution_count": 19,
   "id": "69de134e",
   "metadata": {},
   "outputs": [
    {
     "data": {
      "text/plain": [
       "<AxesSubplot:xlabel='QuakeMonth', ylabel='Magnitude'>"
      ]
     },
     "execution_count": 19,
     "metadata": {},
     "output_type": "execute_result"
    },
    {
     "data": {
      "image/png": "[encoded data removed]",
      "text/plain": [
       "<Figure size 432x288 with 1 Axes>"
      ]
     },
     "metadata": {
      "needs_background": "light"
     },
     "output_type": "display_data"
    }
   ],
   "source": [
    "sns.lineplot(data = df_date, x = 'QuakeMonth', y = 'Magnitude')"
   ]
  },
  {
   "cell_type": "code",
   "execution_count": 22,
   "id": "f1ff3982",
   "metadata": {},
   "outputs": [
    {
     "data": {
      "text/plain": [
       "<AxesSubplot:xlabel='QuakeYear', ylabel='Magnitude'>"
      ]
     },
     "execution_count": 22,
     "metadata": {},
     "output_type": "execute_result"
    },
    {
     "data": {
      "image/png": "[encoded data removed]",
      "text/plain": [
       "<Figure size 432x288 with 1 Axes>"
      ]
     },
     "metadata": {
      "needs_background": "light"
     },
     "output_type": "display_data"
    }
   ],
   "source": [
    "sns.lineplot(data = df_date, x = 'QuakeYear', y = 'Magnitude')"
   ]
  },
  {
   "cell_type": "code",
   "execution_count": null,
   "id": "87ee66fc",
   "metadata": {},
   "outputs": [],
   "source": [
    "#Unicode Error"
   ]
  },
  {
   "cell_type": "code",
   "execution_count": 30,
   "id": "2f8ce8ad",
   "metadata": {},
   "outputs": [],
   "source": [
    "df_encoding = pd.read_csv('D:\\Data\\Data Engineering_ITI\\Data Exploration and preparation\\day_3\\lab-20231012T192036Z-001\\lab\\ks-projects-201612.csv', encoding='Windows-1252')"
   ]
  },
  {
   "cell_type": "code",
   "execution_count": 25,
   "id": "fc3bb0c6",
   "metadata": {},
   "outputs": [],
   "source": [
    "import chardet"
   ]
  },
  {
   "cell_type": "code",
   "execution_count": 27,
   "id": "1f40ddb8",
   "metadata": {},
   "outputs": [
    {
     "name": "stdout",
     "output_type": "stream",
     "text": [
      "{'encoding': 'Windows-1252', 'confidence': 0.73, 'language': ''}\n"
     ]
    }
   ],
   "source": [
    "with open('D:\\Data\\Data Engineering_ITI\\Data Exploration and preparation\\day_3\\lab-20231012T192036Z-001\\lab\\ks-projects-201612.csv','rb') as file:\n",
    "        MyEncoding = chardet.detect(file.read(10000))\n",
    "print(MyEncoding)"
   ]
  },
  {
   "cell_type": "code",
   "execution_count": 31,
   "id": "1477d8a9",
   "metadata": {
    "scrolled": true
   },
   "outputs": [
    {
     "data": {
      "text/html": [
       "<div>\n",
       "<style scoped>\n",
       "    .dataframe tbody tr th:only-of-type {\n",
       "        vertical-align: middle;\n",
       "    }\n",
       "\n",
       "    .dataframe tbody tr th {\n",
       "        vertical-align: top;\n",
       "    }\n",
       "\n",
       "    .dataframe thead th {\n",
       "        text-align: right;\n",
       "    }\n",
       "</style>\n",
       "<table border=\"1\" class=\"dataframe\">\n",
       "  <thead>\n",
       "    <tr style=\"text-align: right;\">\n",
       "      <th></th>\n",
       "      <th>ID</th>\n",
       "      <th>name</th>\n",
       "      <th>category</th>\n",
       "      <th>main_category</th>\n",
       "      <th>currency</th>\n",
       "      <th>deadline</th>\n",
       "      <th>goal</th>\n",
       "      <th>launched</th>\n",
       "      <th>pledged</th>\n",
       "      <th>state</th>\n",
       "      <th>backers</th>\n",
       "      <th>country</th>\n",
       "      <th>usd pledged</th>\n",
       "      <th>Unnamed: 13</th>\n",
       "      <th>Unnamed: 14</th>\n",
       "      <th>Unnamed: 15</th>\n",
       "      <th>Unnamed: 16</th>\n",
       "    </tr>\n",
       "  </thead>\n",
       "  <tbody>\n",
       "    <tr>\n",
       "      <th>0</th>\n",
       "      <td>1000002330</td>\n",
       "      <td>The Songs of Adelaide &amp; Abullah</td>\n",
       "      <td>Poetry</td>\n",
       "      <td>Publishing</td>\n",
       "      <td>GBP</td>\n",
       "      <td>2015-10-09 11:36:00</td>\n",
       "      <td>1000</td>\n",
       "      <td>2015-08-11 12:12:28</td>\n",
       "      <td>0</td>\n",
       "      <td>failed</td>\n",
       "      <td>0</td>\n",
       "      <td>GB</td>\n",
       "      <td>0</td>\n",
       "      <td>NaN</td>\n",
       "      <td>NaN</td>\n",
       "      <td>NaN</td>\n",
       "      <td>NaN</td>\n",
       "    </tr>\n",
       "    <tr>\n",
       "      <th>1</th>\n",
       "      <td>1000004038</td>\n",
       "      <td>Where is Hank?</td>\n",
       "      <td>Narrative Film</td>\n",
       "      <td>Film &amp; Video</td>\n",
       "      <td>USD</td>\n",
       "      <td>2013-02-26 00:20:50</td>\n",
       "      <td>45000</td>\n",
       "      <td>2013-01-12 00:20:50</td>\n",
       "      <td>220</td>\n",
       "      <td>failed</td>\n",
       "      <td>3</td>\n",
       "      <td>US</td>\n",
       "      <td>220</td>\n",
       "      <td>NaN</td>\n",
       "      <td>NaN</td>\n",
       "      <td>NaN</td>\n",
       "      <td>NaN</td>\n",
       "    </tr>\n",
       "    <tr>\n",
       "      <th>2</th>\n",
       "      <td>1000007540</td>\n",
       "      <td>ToshiCapital Rekordz Needs Help to Complete Album</td>\n",
       "      <td>Music</td>\n",
       "      <td>Music</td>\n",
       "      <td>USD</td>\n",
       "      <td>2012-04-16 04:24:11</td>\n",
       "      <td>5000</td>\n",
       "      <td>2012-03-17 03:24:11</td>\n",
       "      <td>1</td>\n",
       "      <td>failed</td>\n",
       "      <td>1</td>\n",
       "      <td>US</td>\n",
       "      <td>1</td>\n",
       "      <td>NaN</td>\n",
       "      <td>NaN</td>\n",
       "      <td>NaN</td>\n",
       "      <td>NaN</td>\n",
       "    </tr>\n",
       "    <tr>\n",
       "      <th>3</th>\n",
       "      <td>1000011046</td>\n",
       "      <td>Community Film Project: The Art of Neighborhoo...</td>\n",
       "      <td>Film &amp; Video</td>\n",
       "      <td>Film &amp; Video</td>\n",
       "      <td>USD</td>\n",
       "      <td>2015-08-29 01:00:00</td>\n",
       "      <td>19500</td>\n",
       "      <td>2015-07-04 08:35:03</td>\n",
       "      <td>1283</td>\n",
       "      <td>canceled</td>\n",
       "      <td>14</td>\n",
       "      <td>US</td>\n",
       "      <td>1283</td>\n",
       "      <td>NaN</td>\n",
       "      <td>NaN</td>\n",
       "      <td>NaN</td>\n",
       "      <td>NaN</td>\n",
       "    </tr>\n",
       "    <tr>\n",
       "      <th>4</th>\n",
       "      <td>1000014025</td>\n",
       "      <td>Monarch Espresso Bar</td>\n",
       "      <td>Restaurants</td>\n",
       "      <td>Food</td>\n",
       "      <td>USD</td>\n",
       "      <td>2016-04-01 13:38:27</td>\n",
       "      <td>50000</td>\n",
       "      <td>2016-02-26 13:38:27</td>\n",
       "      <td>52375</td>\n",
       "      <td>successful</td>\n",
       "      <td>224</td>\n",
       "      <td>US</td>\n",
       "      <td>52375</td>\n",
       "      <td>NaN</td>\n",
       "      <td>NaN</td>\n",
       "      <td>NaN</td>\n",
       "      <td>NaN</td>\n",
       "    </tr>\n",
       "    <tr>\n",
       "      <th>...</th>\n",
       "      <td>...</td>\n",
       "      <td>...</td>\n",
       "      <td>...</td>\n",
       "      <td>...</td>\n",
       "      <td>...</td>\n",
       "      <td>...</td>\n",
       "      <td>...</td>\n",
       "      <td>...</td>\n",
       "      <td>...</td>\n",
       "      <td>...</td>\n",
       "      <td>...</td>\n",
       "      <td>...</td>\n",
       "      <td>...</td>\n",
       "      <td>...</td>\n",
       "      <td>...</td>\n",
       "      <td>...</td>\n",
       "      <td>...</td>\n",
       "    </tr>\n",
       "    <tr>\n",
       "      <th>323745</th>\n",
       "      <td>999976400</td>\n",
       "      <td>ChknTruk Nationwide Charity Drive 2014 (Canceled)</td>\n",
       "      <td>Documentary</td>\n",
       "      <td>Film &amp; Video</td>\n",
       "      <td>USD</td>\n",
       "      <td>2014-10-17 02:35:30</td>\n",
       "      <td>50000</td>\n",
       "      <td>2014-09-17 02:35:30</td>\n",
       "      <td>25</td>\n",
       "      <td>canceled</td>\n",
       "      <td>1</td>\n",
       "      <td>US</td>\n",
       "      <td>25</td>\n",
       "      <td>NaN</td>\n",
       "      <td>NaN</td>\n",
       "      <td>NaN</td>\n",
       "      <td>NaN</td>\n",
       "    </tr>\n",
       "    <tr>\n",
       "      <th>323746</th>\n",
       "      <td>999977640</td>\n",
       "      <td>The Tribe</td>\n",
       "      <td>Narrative Film</td>\n",
       "      <td>Film &amp; Video</td>\n",
       "      <td>USD</td>\n",
       "      <td>2011-07-19 03:35:14</td>\n",
       "      <td>1500</td>\n",
       "      <td>2011-06-22 03:35:14</td>\n",
       "      <td>155</td>\n",
       "      <td>failed</td>\n",
       "      <td>5</td>\n",
       "      <td>US</td>\n",
       "      <td>155</td>\n",
       "      <td>NaN</td>\n",
       "      <td>NaN</td>\n",
       "      <td>NaN</td>\n",
       "      <td>NaN</td>\n",
       "    </tr>\n",
       "    <tr>\n",
       "      <th>323747</th>\n",
       "      <td>999986353</td>\n",
       "      <td>Walls of Remedy- New lesbian Romantic Comedy f...</td>\n",
       "      <td>Narrative Film</td>\n",
       "      <td>Film &amp; Video</td>\n",
       "      <td>USD</td>\n",
       "      <td>2010-08-16 05:59:00</td>\n",
       "      <td>15000</td>\n",
       "      <td>2010-07-01 19:40:30</td>\n",
       "      <td>20</td>\n",
       "      <td>failed</td>\n",
       "      <td>1</td>\n",
       "      <td>US</td>\n",
       "      <td>20</td>\n",
       "      <td>NaN</td>\n",
       "      <td>NaN</td>\n",
       "      <td>NaN</td>\n",
       "      <td>NaN</td>\n",
       "    </tr>\n",
       "    <tr>\n",
       "      <th>323748</th>\n",
       "      <td>999987933</td>\n",
       "      <td>BioDefense Education Kit</td>\n",
       "      <td>Technology</td>\n",
       "      <td>Technology</td>\n",
       "      <td>USD</td>\n",
       "      <td>2016-02-13 02:00:00</td>\n",
       "      <td>15000</td>\n",
       "      <td>2016-01-13 18:13:53</td>\n",
       "      <td>200</td>\n",
       "      <td>failed</td>\n",
       "      <td>6</td>\n",
       "      <td>US</td>\n",
       "      <td>200</td>\n",
       "      <td>NaN</td>\n",
       "      <td>NaN</td>\n",
       "      <td>NaN</td>\n",
       "      <td>NaN</td>\n",
       "    </tr>\n",
       "    <tr>\n",
       "      <th>323749</th>\n",
       "      <td>999988282</td>\n",
       "      <td>Nou Renmen Ayiti!  We Love Haiti!</td>\n",
       "      <td>Performance Art</td>\n",
       "      <td>Art</td>\n",
       "      <td>USD</td>\n",
       "      <td>2011-08-16 09:07:47</td>\n",
       "      <td>2000</td>\n",
       "      <td>2011-07-19 09:07:47</td>\n",
       "      <td>524</td>\n",
       "      <td>failed</td>\n",
       "      <td>17</td>\n",
       "      <td>US</td>\n",
       "      <td>524</td>\n",
       "      <td>NaN</td>\n",
       "      <td>NaN</td>\n",
       "      <td>NaN</td>\n",
       "      <td>NaN</td>\n",
       "    </tr>\n",
       "  </tbody>\n",
       "</table>\n",
       "<p>323750 rows × 17 columns</p>\n",
       "</div>"
      ],
      "text/plain": [
       "               ID                                               name   \\\n",
       "0       1000002330                    The Songs of Adelaide & Abullah   \n",
       "1       1000004038                                     Where is Hank?   \n",
       "2       1000007540  ToshiCapital Rekordz Needs Help to Complete Album   \n",
       "3       1000011046  Community Film Project: The Art of Neighborhoo...   \n",
       "4       1000014025                               Monarch Espresso Bar   \n",
       "...            ...                                                ...   \n",
       "323745   999976400  ChknTruk Nationwide Charity Drive 2014 (Canceled)   \n",
       "323746   999977640                                          The Tribe   \n",
       "323747   999986353  Walls of Remedy- New lesbian Romantic Comedy f...   \n",
       "323748   999987933                           BioDefense Education Kit   \n",
       "323749   999988282                  Nou Renmen Ayiti!  We Love Haiti!   \n",
       "\n",
       "              category  main_category  currency             deadline   goal   \\\n",
       "0                Poetry     Publishing       GBP  2015-10-09 11:36:00   1000   \n",
       "1        Narrative Film   Film & Video       USD  2013-02-26 00:20:50  45000   \n",
       "2                 Music          Music       USD  2012-04-16 04:24:11   5000   \n",
       "3          Film & Video   Film & Video       USD  2015-08-29 01:00:00  19500   \n",
       "4           Restaurants           Food       USD  2016-04-01 13:38:27  50000   \n",
       "...                 ...            ...       ...                  ...    ...   \n",
       "323745      Documentary   Film & Video       USD  2014-10-17 02:35:30  50000   \n",
       "323746   Narrative Film   Film & Video       USD  2011-07-19 03:35:14   1500   \n",
       "323747   Narrative Film   Film & Video       USD  2010-08-16 05:59:00  15000   \n",
       "323748       Technology     Technology       USD  2016-02-13 02:00:00  15000   \n",
       "323749  Performance Art            Art       USD  2011-08-16 09:07:47   2000   \n",
       "\n",
       "                  launched  pledged       state  backers  country   \\\n",
       "0       2015-08-11 12:12:28        0      failed        0       GB   \n",
       "1       2013-01-12 00:20:50      220      failed        3       US   \n",
       "2       2012-03-17 03:24:11        1      failed        1       US   \n",
       "3       2015-07-04 08:35:03     1283    canceled       14       US   \n",
       "4       2016-02-26 13:38:27    52375  successful      224       US   \n",
       "...                     ...      ...         ...      ...      ...   \n",
       "323745  2014-09-17 02:35:30       25    canceled        1       US   \n",
       "323746  2011-06-22 03:35:14      155      failed        5       US   \n",
       "323747  2010-07-01 19:40:30       20      failed        1       US   \n",
       "323748  2016-01-13 18:13:53      200      failed        6       US   \n",
       "323749  2011-07-19 09:07:47      524      failed       17       US   \n",
       "\n",
       "       usd pledged  Unnamed: 13 Unnamed: 14 Unnamed: 15  Unnamed: 16  \n",
       "0                 0         NaN         NaN         NaN          NaN  \n",
       "1               220         NaN         NaN         NaN          NaN  \n",
       "2                 1         NaN         NaN         NaN          NaN  \n",
       "3              1283         NaN         NaN         NaN          NaN  \n",
       "4             52375         NaN         NaN         NaN          NaN  \n",
       "...             ...         ...         ...         ...          ...  \n",
       "323745           25         NaN         NaN         NaN          NaN  \n",
       "323746          155         NaN         NaN         NaN          NaN  \n",
       "323747           20         NaN         NaN         NaN          NaN  \n",
       "323748          200         NaN         NaN         NaN          NaN  \n",
       "323749          524         NaN         NaN         NaN          NaN  \n",
       "\n",
       "[323750 rows x 17 columns]"
      ]
     },
     "execution_count": 31,
     "metadata": {},
     "output_type": "execute_result"
    }
   ],
   "source": [
    "df_encoding"
   ]
  },
  {
   "cell_type": "code",
   "execution_count": null,
   "id": "c239a260",
   "metadata": {},
   "outputs": [],
   "source": [
    "#Handling outliers"
   ]
  },
  {
   "cell_type": "code",
   "execution_count": 2,
   "id": "a84b3a70",
   "metadata": {},
   "outputs": [],
   "source": [
    "df_outliers = sns.load_dataset('iris')"
   ]
  },
  {
   "cell_type": "code",
   "execution_count": 3,
   "id": "581ae69c",
   "metadata": {},
   "outputs": [
    {
     "data": {
      "text/html": [
       "<div>\n",
       "<style scoped>\n",
       "    .dataframe tbody tr th:only-of-type {\n",
       "        vertical-align: middle;\n",
       "    }\n",
       "\n",
       "    .dataframe tbody tr th {\n",
       "        vertical-align: top;\n",
       "    }\n",
       "\n",
       "    .dataframe thead th {\n",
       "        text-align: right;\n",
       "    }\n",
       "</style>\n",
       "<table border=\"1\" class=\"dataframe\">\n",
       "  <thead>\n",
       "    <tr style=\"text-align: right;\">\n",
       "      <th></th>\n",
       "      <th>sepal_length</th>\n",
       "      <th>sepal_width</th>\n",
       "      <th>petal_length</th>\n",
       "      <th>petal_width</th>\n",
       "      <th>species</th>\n",
       "    </tr>\n",
       "  </thead>\n",
       "  <tbody>\n",
       "    <tr>\n",
       "      <th>0</th>\n",
       "      <td>5.1</td>\n",
       "      <td>3.5</td>\n",
       "      <td>1.4</td>\n",
       "      <td>0.2</td>\n",
       "      <td>setosa</td>\n",
       "    </tr>\n",
       "    <tr>\n",
       "      <th>1</th>\n",
       "      <td>4.9</td>\n",
       "      <td>3.0</td>\n",
       "      <td>1.4</td>\n",
       "      <td>0.2</td>\n",
       "      <td>setosa</td>\n",
       "    </tr>\n",
       "    <tr>\n",
       "      <th>2</th>\n",
       "      <td>4.7</td>\n",
       "      <td>3.2</td>\n",
       "      <td>1.3</td>\n",
       "      <td>0.2</td>\n",
       "      <td>setosa</td>\n",
       "    </tr>\n",
       "    <tr>\n",
       "      <th>3</th>\n",
       "      <td>4.6</td>\n",
       "      <td>3.1</td>\n",
       "      <td>1.5</td>\n",
       "      <td>0.2</td>\n",
       "      <td>setosa</td>\n",
       "    </tr>\n",
       "    <tr>\n",
       "      <th>4</th>\n",
       "      <td>5.0</td>\n",
       "      <td>3.6</td>\n",
       "      <td>1.4</td>\n",
       "      <td>0.2</td>\n",
       "      <td>setosa</td>\n",
       "    </tr>\n",
       "    <tr>\n",
       "      <th>...</th>\n",
       "      <td>...</td>\n",
       "      <td>...</td>\n",
       "      <td>...</td>\n",
       "      <td>...</td>\n",
       "      <td>...</td>\n",
       "    </tr>\n",
       "    <tr>\n",
       "      <th>145</th>\n",
       "      <td>6.7</td>\n",
       "      <td>3.0</td>\n",
       "      <td>5.2</td>\n",
       "      <td>2.3</td>\n",
       "      <td>virginica</td>\n",
       "    </tr>\n",
       "    <tr>\n",
       "      <th>146</th>\n",
       "      <td>6.3</td>\n",
       "      <td>2.5</td>\n",
       "      <td>5.0</td>\n",
       "      <td>1.9</td>\n",
       "      <td>virginica</td>\n",
       "    </tr>\n",
       "    <tr>\n",
       "      <th>147</th>\n",
       "      <td>6.5</td>\n",
       "      <td>3.0</td>\n",
       "      <td>5.2</td>\n",
       "      <td>2.0</td>\n",
       "      <td>virginica</td>\n",
       "    </tr>\n",
       "    <tr>\n",
       "      <th>148</th>\n",
       "      <td>6.2</td>\n",
       "      <td>3.4</td>\n",
       "      <td>5.4</td>\n",
       "      <td>2.3</td>\n",
       "      <td>virginica</td>\n",
       "    </tr>\n",
       "    <tr>\n",
       "      <th>149</th>\n",
       "      <td>5.9</td>\n",
       "      <td>3.0</td>\n",
       "      <td>5.1</td>\n",
       "      <td>1.8</td>\n",
       "      <td>virginica</td>\n",
       "    </tr>\n",
       "  </tbody>\n",
       "</table>\n",
       "<p>150 rows × 5 columns</p>\n",
       "</div>"
      ],
      "text/plain": [
       "     sepal_length  sepal_width  petal_length  petal_width    species\n",
       "0             5.1          3.5           1.4          0.2     setosa\n",
       "1             4.9          3.0           1.4          0.2     setosa\n",
       "2             4.7          3.2           1.3          0.2     setosa\n",
       "3             4.6          3.1           1.5          0.2     setosa\n",
       "4             5.0          3.6           1.4          0.2     setosa\n",
       "..            ...          ...           ...          ...        ...\n",
       "145           6.7          3.0           5.2          2.3  virginica\n",
       "146           6.3          2.5           5.0          1.9  virginica\n",
       "147           6.5          3.0           5.2          2.0  virginica\n",
       "148           6.2          3.4           5.4          2.3  virginica\n",
       "149           5.9          3.0           5.1          1.8  virginica\n",
       "\n",
       "[150 rows x 5 columns]"
      ]
     },
     "execution_count": 3,
     "metadata": {},
     "output_type": "execute_result"
    }
   ],
   "source": [
    "df_outliers"
   ]
  },
  {
   "cell_type": "code",
   "execution_count": 4,
   "id": "7ced2316",
   "metadata": {},
   "outputs": [
    {
     "name": "stderr",
     "output_type": "stream",
     "text": [
      "C:\\ProgramData\\Anaconda3\\lib\\site-packages\\seaborn\\_decorators.py:36: FutureWarning: Pass the following variable as a keyword arg: x. From version 0.12, the only valid positional argument will be `data`, and passing other arguments without an explicit keyword will result in an error or misinterpretation.\n",
      "  warnings.warn(\n"
     ]
    },
    {
     "data": {
      "image/png": "[encoded data removed]",
      "text/plain": [
       "<Figure size 432x288 with 1 Axes>"
      ]
     },
     "metadata": {
      "needs_background": "light"
     },
     "output_type": "display_data"
    },
    {
     "name": "stderr",
     "output_type": "stream",
     "text": [
      "C:\\ProgramData\\Anaconda3\\lib\\site-packages\\seaborn\\_decorators.py:36: FutureWarning: Pass the following variable as a keyword arg: x. From version 0.12, the only valid positional argument will be `data`, and passing other arguments without an explicit keyword will result in an error or misinterpretation.\n",
      "  warnings.warn(\n"
     ]
    },
    {
     "data": {
      "image/png": "[encoded data removed]",
      "text/plain": [
       "<Figure size 432x288 with 1 Axes>"
      ]
     },
     "metadata": {
      "needs_background": "light"
     },
     "output_type": "display_data"
    },
    {
     "name": "stderr",
     "output_type": "stream",
     "text": [
      "C:\\ProgramData\\Anaconda3\\lib\\site-packages\\seaborn\\_decorators.py:36: FutureWarning: Pass the following variable as a keyword arg: x. From version 0.12, the only valid positional argument will be `data`, and passing other arguments without an explicit keyword will result in an error or misinterpretation.\n",
      "  warnings.warn(\n"
     ]
    },
    {
     "data": {
      "image/png": "[encoded data removed]",
      "text/plain": [
       "<Figure size 432x288 with 1 Axes>"
      ]
     },
     "metadata": {
      "needs_background": "light"
     },
     "output_type": "display_data"
    },
    {
     "name": "stderr",
     "output_type": "stream",
     "text": [
      "C:\\ProgramData\\Anaconda3\\lib\\site-packages\\seaborn\\_decorators.py:36: FutureWarning: Pass the following variable as a keyword arg: x. From version 0.12, the only valid positional argument will be `data`, and passing other arguments without an explicit keyword will result in an error or misinterpretation.\n",
      "  warnings.warn(\n"
     ]
    },
    {
     "data": {
      "image/png": "[encoded data removed]",
      "text/plain": [
       "<Figure size 432x288 with 1 Axes>"
      ]
     },
     "metadata": {
      "needs_background": "light"
     },
     "output_type": "display_data"
    }
   ],
   "source": [
    "for col in df_outliers.select_dtypes('number').columns:\n",
    "    sns.boxplot(df_outliers[col])\n",
    "    plt.show()"
   ]
  },
  {
   "cell_type": "code",
   "execution_count": 10,
   "id": "73ffca6e",
   "metadata": {},
   "outputs": [],
   "source": [
    "q1 = df_outliers['sepal_width'].quantile(0.25)\n",
    "q3 = df_outliers['sepal_width'].quantile(0.75)\n",
    "q2 = df_outliers['sepal_width'].quantile(0.5)\n",
    "IQR = q3-q1\n",
    "max_limit = q3+ 1.5*IQR\n",
    "min_limit = q1- 1.5*IQR"
   ]
  },
  {
   "cell_type": "code",
   "execution_count": 9,
   "id": "50520b30",
   "metadata": {},
   "outputs": [
    {
     "data": {
      "text/plain": [
       "(4.05, 2.05)"
      ]
     },
     "execution_count": 9,
     "metadata": {},
     "output_type": "execute_result"
    }
   ],
   "source": [
    "max_limit, min_limit"
   ]
  },
  {
   "cell_type": "code",
   "execution_count": 13,
   "id": "f74d6027",
   "metadata": {},
   "outputs": [],
   "source": [
    "filtered = (df_outliers['sepal_width'] < max_limit) & (df_outliers['sepal_width'] > min_limit)"
   ]
  },
  {
   "cell_type": "code",
   "execution_count": 17,
   "id": "a29a7a3c",
   "metadata": {
    "collapsed": true
   },
   "outputs": [
    {
     "name": "stderr",
     "output_type": "stream",
     "text": [
      "C:\\Users\\dell\\AppData\\Local\\Temp/ipykernel_3456/1695072766.py:1: UserWarning: Boolean Series key will be reindexed to match DataFrame index.\n",
      "  df_outliers = df_outliers[filtered]\n"
     ]
    },
    {
     "data": {
      "text/html": [
       "<div>\n",
       "<style scoped>\n",
       "    .dataframe tbody tr th:only-of-type {\n",
       "        vertical-align: middle;\n",
       "    }\n",
       "\n",
       "    .dataframe tbody tr th {\n",
       "        vertical-align: top;\n",
       "    }\n",
       "\n",
       "    .dataframe thead th {\n",
       "        text-align: right;\n",
       "    }\n",
       "</style>\n",
       "<table border=\"1\" class=\"dataframe\">\n",
       "  <thead>\n",
       "    <tr style=\"text-align: right;\">\n",
       "      <th></th>\n",
       "      <th>sepal_length</th>\n",
       "      <th>sepal_width</th>\n",
       "      <th>petal_length</th>\n",
       "      <th>petal_width</th>\n",
       "      <th>species</th>\n",
       "    </tr>\n",
       "  </thead>\n",
       "  <tbody>\n",
       "    <tr>\n",
       "      <th>0</th>\n",
       "      <td>5.1</td>\n",
       "      <td>3.5</td>\n",
       "      <td>1.4</td>\n",
       "      <td>0.2</td>\n",
       "      <td>setosa</td>\n",
       "    </tr>\n",
       "    <tr>\n",
       "      <th>1</th>\n",
       "      <td>4.9</td>\n",
       "      <td>3.0</td>\n",
       "      <td>1.4</td>\n",
       "      <td>0.2</td>\n",
       "      <td>setosa</td>\n",
       "    </tr>\n",
       "    <tr>\n",
       "      <th>2</th>\n",
       "      <td>4.7</td>\n",
       "      <td>3.2</td>\n",
       "      <td>1.3</td>\n",
       "      <td>0.2</td>\n",
       "      <td>setosa</td>\n",
       "    </tr>\n",
       "    <tr>\n",
       "      <th>3</th>\n",
       "      <td>4.6</td>\n",
       "      <td>3.1</td>\n",
       "      <td>1.5</td>\n",
       "      <td>0.2</td>\n",
       "      <td>setosa</td>\n",
       "    </tr>\n",
       "    <tr>\n",
       "      <th>4</th>\n",
       "      <td>5.0</td>\n",
       "      <td>3.6</td>\n",
       "      <td>1.4</td>\n",
       "      <td>0.2</td>\n",
       "      <td>setosa</td>\n",
       "    </tr>\n",
       "    <tr>\n",
       "      <th>...</th>\n",
       "      <td>...</td>\n",
       "      <td>...</td>\n",
       "      <td>...</td>\n",
       "      <td>...</td>\n",
       "      <td>...</td>\n",
       "    </tr>\n",
       "    <tr>\n",
       "      <th>145</th>\n",
       "      <td>6.7</td>\n",
       "      <td>3.0</td>\n",
       "      <td>5.2</td>\n",
       "      <td>2.3</td>\n",
       "      <td>virginica</td>\n",
       "    </tr>\n",
       "    <tr>\n",
       "      <th>146</th>\n",
       "      <td>6.3</td>\n",
       "      <td>2.5</td>\n",
       "      <td>5.0</td>\n",
       "      <td>1.9</td>\n",
       "      <td>virginica</td>\n",
       "    </tr>\n",
       "    <tr>\n",
       "      <th>147</th>\n",
       "      <td>6.5</td>\n",
       "      <td>3.0</td>\n",
       "      <td>5.2</td>\n",
       "      <td>2.0</td>\n",
       "      <td>virginica</td>\n",
       "    </tr>\n",
       "    <tr>\n",
       "      <th>148</th>\n",
       "      <td>6.2</td>\n",
       "      <td>3.4</td>\n",
       "      <td>5.4</td>\n",
       "      <td>2.3</td>\n",
       "      <td>virginica</td>\n",
       "    </tr>\n",
       "    <tr>\n",
       "      <th>149</th>\n",
       "      <td>5.9</td>\n",
       "      <td>3.0</td>\n",
       "      <td>5.1</td>\n",
       "      <td>1.8</td>\n",
       "      <td>virginica</td>\n",
       "    </tr>\n",
       "  </tbody>\n",
       "</table>\n",
       "<p>146 rows × 5 columns</p>\n",
       "</div>"
      ],
      "text/plain": [
       "     sepal_length  sepal_width  petal_length  petal_width    species\n",
       "0             5.1          3.5           1.4          0.2     setosa\n",
       "1             4.9          3.0           1.4          0.2     setosa\n",
       "2             4.7          3.2           1.3          0.2     setosa\n",
       "3             4.6          3.1           1.5          0.2     setosa\n",
       "4             5.0          3.6           1.4          0.2     setosa\n",
       "..            ...          ...           ...          ...        ...\n",
       "145           6.7          3.0           5.2          2.3  virginica\n",
       "146           6.3          2.5           5.0          1.9  virginica\n",
       "147           6.5          3.0           5.2          2.0  virginica\n",
       "148           6.2          3.4           5.4          2.3  virginica\n",
       "149           5.9          3.0           5.1          1.8  virginica\n",
       "\n",
       "[146 rows x 5 columns]"
      ]
     },
     "execution_count": 17,
     "metadata": {},
     "output_type": "execute_result"
    }
   ],
   "source": [
    "df_outliers = df_outliers[filtered]\n",
    "df_outliers"
   ]
  },
  {
   "cell_type": "code",
   "execution_count": 18,
   "id": "dd04e21d",
   "metadata": {},
   "outputs": [
    {
     "name": "stderr",
     "output_type": "stream",
     "text": [
      "C:\\ProgramData\\Anaconda3\\lib\\site-packages\\seaborn\\_decorators.py:36: FutureWarning: Pass the following variable as a keyword arg: x. From version 0.12, the only valid positional argument will be `data`, and passing other arguments without an explicit keyword will result in an error or misinterpretation.\n",
      "  warnings.warn(\n"
     ]
    },
    {
     "data": {
      "image/png": "[encoded data removed]",
      "text/plain": [
       "<Figure size 432x288 with 1 Axes>"
      ]
     },
     "metadata": {
      "needs_background": "light"
     },
     "output_type": "display_data"
    },
    {
     "name": "stderr",
     "output_type": "stream",
     "text": [
      "C:\\ProgramData\\Anaconda3\\lib\\site-packages\\seaborn\\_decorators.py:36: FutureWarning: Pass the following variable as a keyword arg: x. From version 0.12, the only valid positional argument will be `data`, and passing other arguments without an explicit keyword will result in an error or misinterpretation.\n",
      "  warnings.warn(\n"
     ]
    },
    {
     "data": {
      "image/png": "[encoded data removed]",
      "text/plain": [
       "<Figure size 432x288 with 1 Axes>"
      ]
     },
     "metadata": {
      "needs_background": "light"
     },
     "output_type": "display_data"
    },
    {
     "name": "stderr",
     "output_type": "stream",
     "text": [
      "C:\\ProgramData\\Anaconda3\\lib\\site-packages\\seaborn\\_decorators.py:36: FutureWarning: Pass the following variable as a keyword arg: x. From version 0.12, the only valid positional argument will be `data`, and passing other arguments without an explicit keyword will result in an error or misinterpretation.\n",
      "  warnings.warn(\n"
     ]
    },
    {
     "data": {
      "image/png": "[encoded data removed]",
      "text/plain": [
       "<Figure size 432x288 with 1 Axes>"
      ]
     },
     "metadata": {
      "needs_background": "light"
     },
     "output_type": "display_data"
    },
    {
     "name": "stderr",
     "output_type": "stream",
     "text": [
      "C:\\ProgramData\\Anaconda3\\lib\\site-packages\\seaborn\\_decorators.py:36: FutureWarning: Pass the following variable as a keyword arg: x. From version 0.12, the only valid positional argument will be `data`, and passing other arguments without an explicit keyword will result in an error or misinterpretation.\n",
      "  warnings.warn(\n"
     ]
    },
    {
     "data": {
      "image/png": "[encoded data removed]",
      "text/plain": [
       "<Figure size 432x288 with 1 Axes>"
      ]
     },
     "metadata": {
      "needs_background": "light"
     },
     "output_type": "display_data"
    }
   ],
   "source": [
    "for col in df_outliers.select_dtypes('number').columns:\n",
    "    sns.boxplot(df_outliers[col])\n",
    "    plt.show()"
   ]
  },
  {
   "cell_type": "code",
   "execution_count": null,
   "id": "86d72763",
   "metadata": {},
   "outputs": [],
   "source": []
  },
  {
   "cell_type": "code",
   "execution_count": null,
   "id": "da31aa5c",
   "metadata": {},
   "outputs": [],
   "source": [
    "#Handling missing values"
   ]
  },
  {
   "cell_type": "code",
   "execution_count": 20,
   "id": "42f8ff69",
   "metadata": {},
   "outputs": [
    {
     "name": "stderr",
     "output_type": "stream",
     "text": [
      "C:\\ProgramData\\Anaconda3\\lib\\site-packages\\IPython\\core\\interactiveshell.py:3444: DtypeWarning: Columns (25,51) have mixed types.Specify dtype option on import or set low_memory=False.\n",
      "  exec(code_obj, self.user_global_ns, self.user_ns)\n"
     ]
    }
   ],
   "source": [
    "df_missing = pd.read_csv(r'D:\\Data\\Data Engineering_ITI\\Data Exploration and preparation\\day_3\\lab-20231012T192036Z-001\\lab\\NFL Play by Play 2009-2016 (v3).csv')"
   ]
  },
  {
   "cell_type": "code",
   "execution_count": 27,
   "id": "657d042a",
   "metadata": {},
   "outputs": [
    {
     "data": {
      "text/plain": [
       "Date             0\n",
       "GameID           0\n",
       "Drive            0\n",
       "qtr              0\n",
       "down         54218\n",
       "             ...  \n",
       "Win_Prob     21993\n",
       "WPA           4817\n",
       "airWPA      220738\n",
       "yacWPA      220956\n",
       "Season           0\n",
       "Length: 102, dtype: int64"
      ]
     },
     "execution_count": 27,
     "metadata": {},
     "output_type": "execute_result"
    }
   ],
   "source": [
    "df_missing.isnull().sum()"
   ]
  },
  {
   "cell_type": "code",
   "execution_count": null,
   "id": "22031f3e",
   "metadata": {},
   "outputs": [],
   "source": [
    "#handling very big values >>>> scaling "
   ]
  },
  {
   "cell_type": "code",
   "execution_count": 46,
   "id": "620b2747",
   "metadata": {},
   "outputs": [],
   "source": [
    "df_scaling = pd.read_csv('D:\\Data\\Data Engineering_ITI\\Data Exploration and preparation\\day_3\\lab-20231012T192036Z-001\\lab\\moore.csv')"
   ]
  },
  {
   "cell_type": "code",
   "execution_count": 47,
   "id": "58ab9f8c",
   "metadata": {},
   "outputs": [],
   "source": [
    "df_scaling.columns = ['year','no']"
   ]
  },
  {
   "cell_type": "code",
   "execution_count": 36,
   "id": "88335fc0",
   "metadata": {},
   "outputs": [
    {
     "data": {
      "text/html": [
       "<div>\n",
       "<style scoped>\n",
       "    .dataframe tbody tr th:only-of-type {\n",
       "        vertical-align: middle;\n",
       "    }\n",
       "\n",
       "    .dataframe tbody tr th {\n",
       "        vertical-align: top;\n",
       "    }\n",
       "\n",
       "    .dataframe thead th {\n",
       "        text-align: right;\n",
       "    }\n",
       "</style>\n",
       "<table border=\"1\" class=\"dataframe\">\n",
       "  <thead>\n",
       "    <tr style=\"text-align: right;\">\n",
       "      <th></th>\n",
       "      <th>year</th>\n",
       "      <th>no</th>\n",
       "    </tr>\n",
       "  </thead>\n",
       "  <tbody>\n",
       "    <tr>\n",
       "      <th>0</th>\n",
       "      <td>1972</td>\n",
       "      <td>3500</td>\n",
       "    </tr>\n",
       "    <tr>\n",
       "      <th>1</th>\n",
       "      <td>1973</td>\n",
       "      <td>2500</td>\n",
       "    </tr>\n",
       "    <tr>\n",
       "      <th>2</th>\n",
       "      <td>1973</td>\n",
       "      <td>2500</td>\n",
       "    </tr>\n",
       "    <tr>\n",
       "      <th>3</th>\n",
       "      <td>1974</td>\n",
       "      <td>4100</td>\n",
       "    </tr>\n",
       "    <tr>\n",
       "      <th>4</th>\n",
       "      <td>1974</td>\n",
       "      <td>4500</td>\n",
       "    </tr>\n",
       "    <tr>\n",
       "      <th>...</th>\n",
       "      <td>...</td>\n",
       "      <td>...</td>\n",
       "    </tr>\n",
       "    <tr>\n",
       "      <th>156</th>\n",
       "      <td>2017</td>\n",
       "      <td>18000000000</td>\n",
       "    </tr>\n",
       "    <tr>\n",
       "      <th>157</th>\n",
       "      <td>2017</td>\n",
       "      <td>19200000000</td>\n",
       "    </tr>\n",
       "    <tr>\n",
       "      <th>158</th>\n",
       "      <td>2018</td>\n",
       "      <td>8876000000</td>\n",
       "    </tr>\n",
       "    <tr>\n",
       "      <th>159</th>\n",
       "      <td>2018</td>\n",
       "      <td>23600000000</td>\n",
       "    </tr>\n",
       "    <tr>\n",
       "      <th>160</th>\n",
       "      <td>2018</td>\n",
       "      <td>9000000000</td>\n",
       "    </tr>\n",
       "  </tbody>\n",
       "</table>\n",
       "<p>161 rows × 2 columns</p>\n",
       "</div>"
      ],
      "text/plain": [
       "     year           no\n",
       "0    1972         3500\n",
       "1    1973         2500\n",
       "2    1973         2500\n",
       "3    1974         4100\n",
       "4    1974         4500\n",
       "..    ...          ...\n",
       "156  2017  18000000000\n",
       "157  2017  19200000000\n",
       "158  2018   8876000000\n",
       "159  2018  23600000000\n",
       "160  2018   9000000000\n",
       "\n",
       "[161 rows x 2 columns]"
      ]
     },
     "execution_count": 36,
     "metadata": {},
     "output_type": "execute_result"
    }
   ],
   "source": [
    "df_scaling"
   ]
  },
  {
   "cell_type": "code",
   "execution_count": 37,
   "id": "8f15e0db",
   "metadata": {},
   "outputs": [
    {
     "data": {
      "text/plain": [
       "<AxesSubplot:xlabel='year', ylabel='no'>"
      ]
     },
     "execution_count": 37,
     "metadata": {},
     "output_type": "execute_result"
    },
    {
     "data": {
      "image/png": "[encoded data removed]",
      "text/plain": [
       "<Figure size 432x288 with 1 Axes>"
      ]
     },
     "metadata": {
      "needs_background": "light"
     },
     "output_type": "display_data"
    }
   ],
   "source": [
    "sns.lineplot(data = df_scaling, x= 'year', y = 'no')"
   ]
  },
  {
   "cell_type": "code",
   "execution_count": 39,
   "id": "14c19f77",
   "metadata": {},
   "outputs": [
    {
     "name": "stderr",
     "output_type": "stream",
     "text": [
      "C:\\ProgramData\\Anaconda3\\lib\\site-packages\\seaborn\\_decorators.py:36: FutureWarning: Pass the following variable as a keyword arg: x. From version 0.12, the only valid positional argument will be `data`, and passing other arguments without an explicit keyword will result in an error or misinterpretation.\n",
      "  warnings.warn(\n"
     ]
    },
    {
     "data": {
      "text/plain": [
       "<AxesSubplot:xlabel='no'>"
      ]
     },
     "execution_count": 39,
     "metadata": {},
     "output_type": "execute_result"
    },
    {
     "data": {
      "image/png": "[encoded data removed]",
      "text/plain": [
       "<Figure size 432x288 with 1 Axes>"
      ]
     },
     "metadata": {
      "needs_background": "light"
     },
     "output_type": "display_data"
    }
   ],
   "source": [
    "sns.boxplot(df_scaling['no'])"
   ]
  },
  {
   "cell_type": "code",
   "execution_count": 40,
   "id": "dfb109e7",
   "metadata": {},
   "outputs": [
    {
     "data": {
      "text/plain": [
       "<AxesSubplot:xlabel='no', ylabel='Count'>"
      ]
     },
     "execution_count": 40,
     "metadata": {},
     "output_type": "execute_result"
    },
    {
     "data": {
      "image/png": "[encoded data removed]",
      "text/plain": [
       "<Figure size 432x288 with 1 Axes>"
      ]
     },
     "metadata": {
      "needs_background": "light"
     },
     "output_type": "display_data"
    }
   ],
   "source": [
    "sns.histplot(df_scaling['no'])"
   ]
  },
  {
   "cell_type": "code",
   "execution_count": 60,
   "id": "d4a91349",
   "metadata": {},
   "outputs": [],
   "source": [
    "mean_ = df_scaling['no'].mean()\n",
    "med_  = df_scaling['no'].median()\n",
    "q1    = df_scaling['no'].quantile(0.25)\n",
    "q3    = df_scaling['no'].quantile(0.75)\n",
    "min_  = df_scaling['no'].min() \n",
    "std_  = df_scaling['no'].std()\n",
    "range_= df_scaling['no'].max()-df_scaling['no'].min()  "
   ]
  },
  {
   "cell_type": "code",
   "execution_count": 49,
   "id": "568c6a84",
   "metadata": {},
   "outputs": [],
   "source": [
    "df_scaling['no_MinMax'] = df_scaling['no'].apply(lambda x: (x-min_)/(range_))"
   ]
  },
  {
   "cell_type": "code",
   "execution_count": 52,
   "id": "3805e837",
   "metadata": {},
   "outputs": [
    {
     "data": {
      "text/html": [
       "<div>\n",
       "<style scoped>\n",
       "    .dataframe tbody tr th:only-of-type {\n",
       "        vertical-align: middle;\n",
       "    }\n",
       "\n",
       "    .dataframe tbody tr th {\n",
       "        vertical-align: top;\n",
       "    }\n",
       "\n",
       "    .dataframe thead th {\n",
       "        text-align: right;\n",
       "    }\n",
       "</style>\n",
       "<table border=\"1\" class=\"dataframe\">\n",
       "  <thead>\n",
       "    <tr style=\"text-align: right;\">\n",
       "      <th></th>\n",
       "      <th>year</th>\n",
       "      <th>no</th>\n",
       "      <th>no_MinMax</th>\n",
       "    </tr>\n",
       "  </thead>\n",
       "  <tbody>\n",
       "    <tr>\n",
       "      <th>0</th>\n",
       "      <td>1972</td>\n",
       "      <td>3500</td>\n",
       "      <td>4.237289e-08</td>\n",
       "    </tr>\n",
       "    <tr>\n",
       "      <th>1</th>\n",
       "      <td>1973</td>\n",
       "      <td>2500</td>\n",
       "      <td>0.000000e+00</td>\n",
       "    </tr>\n",
       "    <tr>\n",
       "      <th>2</th>\n",
       "      <td>1973</td>\n",
       "      <td>2500</td>\n",
       "      <td>0.000000e+00</td>\n",
       "    </tr>\n",
       "    <tr>\n",
       "      <th>3</th>\n",
       "      <td>1974</td>\n",
       "      <td>4100</td>\n",
       "      <td>6.779662e-08</td>\n",
       "    </tr>\n",
       "    <tr>\n",
       "      <th>4</th>\n",
       "      <td>1974</td>\n",
       "      <td>4500</td>\n",
       "      <td>8.474577e-08</td>\n",
       "    </tr>\n",
       "    <tr>\n",
       "      <th>...</th>\n",
       "      <td>...</td>\n",
       "      <td>...</td>\n",
       "      <td>...</td>\n",
       "    </tr>\n",
       "    <tr>\n",
       "      <th>156</th>\n",
       "      <td>2017</td>\n",
       "      <td>18000000000</td>\n",
       "      <td>7.627118e-01</td>\n",
       "    </tr>\n",
       "    <tr>\n",
       "      <th>157</th>\n",
       "      <td>2017</td>\n",
       "      <td>19200000000</td>\n",
       "      <td>8.135593e-01</td>\n",
       "    </tr>\n",
       "    <tr>\n",
       "      <th>158</th>\n",
       "      <td>2018</td>\n",
       "      <td>8876000000</td>\n",
       "      <td>3.761016e-01</td>\n",
       "    </tr>\n",
       "    <tr>\n",
       "      <th>159</th>\n",
       "      <td>2018</td>\n",
       "      <td>23600000000</td>\n",
       "      <td>1.000000e+00</td>\n",
       "    </tr>\n",
       "    <tr>\n",
       "      <th>160</th>\n",
       "      <td>2018</td>\n",
       "      <td>9000000000</td>\n",
       "      <td>3.813559e-01</td>\n",
       "    </tr>\n",
       "  </tbody>\n",
       "</table>\n",
       "<p>161 rows × 3 columns</p>\n",
       "</div>"
      ],
      "text/plain": [
       "     year           no     no_MinMax\n",
       "0    1972         3500  4.237289e-08\n",
       "1    1973         2500  0.000000e+00\n",
       "2    1973         2500  0.000000e+00\n",
       "3    1974         4100  6.779662e-08\n",
       "4    1974         4500  8.474577e-08\n",
       "..    ...          ...           ...\n",
       "156  2017  18000000000  7.627118e-01\n",
       "157  2017  19200000000  8.135593e-01\n",
       "158  2018   8876000000  3.761016e-01\n",
       "159  2018  23600000000  1.000000e+00\n",
       "160  2018   9000000000  3.813559e-01\n",
       "\n",
       "[161 rows x 3 columns]"
      ]
     },
     "execution_count": 52,
     "metadata": {},
     "output_type": "execute_result"
    }
   ],
   "source": [
    "df_scaling"
   ]
  },
  {
   "cell_type": "code",
   "execution_count": 51,
   "id": "e827a82a",
   "metadata": {},
   "outputs": [
    {
     "data": {
      "text/plain": [
       "<AxesSubplot:xlabel='no_MinMax', ylabel='Count'>"
      ]
     },
     "execution_count": 51,
     "metadata": {},
     "output_type": "execute_result"
    },
    {
     "data": {
      "image/png": "[encoded data removed]",
      "text/plain": [
       "<Figure size 432x288 with 1 Axes>"
      ]
     },
     "metadata": {
      "needs_background": "light"
     },
     "output_type": "display_data"
    }
   ],
   "source": [
    "sns.histplot(df_scaling['no_MinMax'])"
   ]
  },
  {
   "cell_type": "code",
   "execution_count": 55,
   "id": "70cf4649",
   "metadata": {},
   "outputs": [],
   "source": [
    "df_scaling['no_Zscore'] = df_scaling['no'].apply(lambda x: (x-mean_)/(std_))"
   ]
  },
  {
   "cell_type": "code",
   "execution_count": 57,
   "id": "19bb1676",
   "metadata": {},
   "outputs": [
    {
     "data": {
      "text/plain": [
       "<AxesSubplot:xlabel='no_Zscore', ylabel='Count'>"
      ]
     },
     "execution_count": 57,
     "metadata": {},
     "output_type": "execute_result"
    },
    {
     "data": {
      "image/png": "[encoded data removed]",
      "text/plain": [
       "<Figure size 432x288 with 1 Axes>"
      ]
     },
     "metadata": {
      "needs_background": "light"
     },
     "output_type": "display_data"
    }
   ],
   "source": [
    "sns.histplot(df_scaling['no_Zscore'])"
   ]
  },
  {
   "cell_type": "code",
   "execution_count": 61,
   "id": "daa7ee8a",
   "metadata": {},
   "outputs": [],
   "source": [
    "df_scaling['Robust'] = df_scaling['no'].apply(lambda x: (x-med_)/(q3-q1))"
   ]
  },
  {
   "cell_type": "code",
   "execution_count": 62,
   "id": "2dbbc6dd",
   "metadata": {},
   "outputs": [
    {
     "data": {
      "text/plain": [
       "<AxesSubplot:xlabel='Robust', ylabel='Count'>"
      ]
     },
     "execution_count": 62,
     "metadata": {},
     "output_type": "execute_result"
    },
    {
     "data": {
      "image/png": "[encoded data removed]",
      "text/plain": [
       "<Figure size 432x288 with 1 Axes>"
      ]
     },
     "metadata": {
      "needs_background": "light"
     },
     "output_type": "display_data"
    }
   ],
   "source": [
    "sns.histplot(df_scaling['Robust'])"
   ]
  },
  {
   "cell_type": "code",
   "execution_count": 64,
   "id": "1695ce07",
   "metadata": {},
   "outputs": [],
   "source": [
    "myscaler1 = MinMaxScaler()"
   ]
  },
  {
   "cell_type": "code",
   "execution_count": 67,
   "id": "0fc23ac6",
   "metadata": {
    "collapsed": true
   },
   "outputs": [
    {
     "data": {
      "text/plain": [
       "array([[4.23728858e-08],\n",
       "       [0.00000000e+00],\n",
       "       [0.00000000e+00],\n",
       "       [6.77966174e-08],\n",
       "       [8.47457717e-08],\n",
       "       [2.33050872e-07],\n",
       "       [4.27966147e-08],\n",
       "       [1.05932215e-07],\n",
       "       [2.54237315e-07],\n",
       "       [1.69491543e-07],\n",
       "       [2.75423758e-07],\n",
       "       [1.12288147e-06],\n",
       "       [6.35593288e-07],\n",
       "       [1.12288147e-06],\n",
       "       [2.77542402e-06],\n",
       "       [3.81355973e-07],\n",
       "       [2.22457651e-06],\n",
       "       [5.57203449e-06],\n",
       "       [8.26271274e-07],\n",
       "       [2.56355959e-06],\n",
       "       [7.94491610e-06],\n",
       "       [1.15466114e-05],\n",
       "       [9.53389932e-07],\n",
       "       [5.72033959e-07],\n",
       "       [4.55508523e-06],\n",
       "       [1.57839000e-05],\n",
       "       [1.16525436e-06],\n",
       "       [1.62076288e-05],\n",
       "       [3.08262745e-05],\n",
       "       [1.14618656e-05],\n",
       "       [2.33262737e-05],\n",
       "       [7.52118724e-06],\n",
       "       [1.04872892e-05],\n",
       "       [2.53177993e-05],\n",
       "       [4.22669536e-05],\n",
       "       [4.99040307e-05],\n",
       "       [1.30296624e-05],\n",
       "       [5.07415308e-05],\n",
       "       [5.70974637e-05],\n",
       "       [1.37711879e-06],\n",
       "       [2.53177993e-05],\n",
       "       [3.80296650e-05],\n",
       "       [1.18538148e-04],\n",
       "       [1.31250014e-04],\n",
       "       [2.44269941e-05],\n",
       "       [1.05826282e-04],\n",
       "       [1.05826282e-04],\n",
       "       [4.59745811e-06],\n",
       "       [2.32944940e-04],\n",
       "       [1.82097477e-04],\n",
       "       [4.23622926e-04],\n",
       "       [3.17690712e-04],\n",
       "       [3.72775463e-04],\n",
       "       [3.17690712e-04],\n",
       "       [4.02436483e-04],\n",
       "       [5.71928027e-04],\n",
       "       [8.89724671e-04],\n",
       "       [8.89724671e-04],\n",
       "       [1.16091114e-03],\n",
       "       [9.02436536e-04],\n",
       "       [9.32097556e-04],\n",
       "       [1.77955527e-03],\n",
       "       [8.09311526e-03],\n",
       "       [1.90667393e-03],\n",
       "       [2.33040279e-03],\n",
       "       [4.74565728e-03],\n",
       "       [1.69490484e-02],\n",
       "       [7.16091178e-03],\n",
       "       [7.79650506e-03],\n",
       "       [9.66091204e-03],\n",
       "       [1.53388787e-02],\n",
       "       [2.28812524e-02],\n",
       "       [1.99141970e-03],\n",
       "       [2.30074177e-03],\n",
       "       [4.48718268e-03],\n",
       "       [9.32192895e-03],\n",
       "       [6.99142023e-03],\n",
       "       [1.05931155e-02],\n",
       "       [1.23304038e-02],\n",
       "       [7.16091178e-03],\n",
       "       [1.73727773e-02],\n",
       "       [2.54236256e-02],\n",
       "       [3.22032873e-02],\n",
       "       [7.92371906e-02],\n",
       "       [1.83049808e-02],\n",
       "       [1.96185402e-02],\n",
       "       [1.10158910e-03],\n",
       "       [9.74565781e-03],\n",
       "       [2.50846425e-02],\n",
       "       [1.74151501e-02],\n",
       "       [3.09744736e-02],\n",
       "       [3.21185415e-02],\n",
       "       [3.34321010e-02],\n",
       "       [3.83049829e-02],\n",
       "       [4.23727799e-02],\n",
       "       [1.26694823e-01],\n",
       "       [4.23727799e-02],\n",
       "       [4.91524416e-02],\n",
       "       [4.95761705e-02],\n",
       "       [5.08473571e-02],\n",
       "       [5.08473571e-02],\n",
       "       [5.52117643e-02],\n",
       "       [5.93219343e-02],\n",
       "       [5.93219343e-02],\n",
       "       [5.93219343e-02],\n",
       "       [7.20338000e-02],\n",
       "       [7.41524443e-02],\n",
       "       [7.88134617e-02],\n",
       "       [8.05083772e-02],\n",
       "       [8.05083772e-02],\n",
       "       [8.47456658e-02],\n",
       "       [8.47456658e-02],\n",
       "       [8.47456658e-02],\n",
       "       [1.27118552e-01],\n",
       "       [8.89829543e-02],\n",
       "       [9.61863449e-02],\n",
       "       [9.74575315e-02],\n",
       "       [1.10169397e-01],\n",
       "       [1.10169397e-01],\n",
       "       [1.16525330e-01],\n",
       "       [1.27118552e-01],\n",
       "       [1.27118552e-01],\n",
       "       [2.24576189e-01],\n",
       "       [2.24576189e-01],\n",
       "       [3.60169424e-01],\n",
       "       [1.31355840e-01],\n",
       "       [1.35593129e-01],\n",
       "       [1.39830417e-01],\n",
       "       [1.69067709e-01],\n",
       "       [1.77966015e-01],\n",
       "       [1.82203303e-01],\n",
       "       [1.82627032e-01],\n",
       "       [2.03389746e-01],\n",
       "       [2.03389746e-01],\n",
       "       [2.03389746e-01],\n",
       "       [2.11864323e-01],\n",
       "       [2.11864323e-01],\n",
       "       [2.35593139e-01],\n",
       "       [2.58474498e-01],\n",
       "       [2.92372806e-01],\n",
       "       [1.69491437e-01],\n",
       "       [2.92372806e-01],\n",
       "       [2.33050766e-01],\n",
       "       [2.33050766e-01],\n",
       "       [2.96610095e-01],\n",
       "       [3.00847384e-01],\n",
       "       [3.38982981e-01],\n",
       "       [3.05084672e-01],\n",
       "       [3.38982981e-01],\n",
       "       [3.38982981e-01],\n",
       "       [4.11016887e-01],\n",
       "       [1.05931155e-02],\n",
       "       [4.23728753e-01],\n",
       "       [2.30932122e-01],\n",
       "       [4.23728753e-01],\n",
       "       [1.82203303e-01],\n",
       "       [7.62711839e-01],\n",
       "       [8.13559302e-01],\n",
       "       [3.76101629e-01],\n",
       "       [1.00000000e+00],\n",
       "       [3.81355867e-01]])"
      ]
     },
     "execution_count": 67,
     "metadata": {},
     "output_type": "execute_result"
    }
   ],
   "source": [
    "myscaler1.fit_transform(df_scaling['no'].array.reshape(-1,1))"
   ]
  },
  {
   "cell_type": "code",
   "execution_count": 68,
   "id": "2af9de26",
   "metadata": {},
   "outputs": [
    {
     "data": {
      "text/plain": [
       "<AxesSubplot:ylabel='Count'>"
      ]
     },
     "execution_count": 68,
     "metadata": {},
     "output_type": "execute_result"
    },
    {
     "data": {
      "image/png": "[encoded data removed]",
      "text/plain": [
       "<Figure size 432x288 with 1 Axes>"
      ]
     },
     "metadata": {
      "needs_background": "light"
     },
     "output_type": "display_data"
    }
   ],
   "source": [
    "sns.histplot(myscaler1.fit_transform(df_scaling['no'].array.reshape(-1,1)))"
   ]
  },
  {
   "cell_type": "code",
   "execution_count": 71,
   "id": "7062dcf7",
   "metadata": {},
   "outputs": [],
   "source": [
    "myscaler2 = StandardScaler()"
   ]
  },
  {
   "cell_type": "code",
   "execution_count": 72,
   "id": "389f71cb",
   "metadata": {
    "collapsed": true
   },
   "outputs": [
    {
     "data": {
      "text/plain": [
       "array([[-5.87897924e-01],\n",
       "       [-5.87898201e-01],\n",
       "       [-5.87898201e-01],\n",
       "       [-5.87897757e-01],\n",
       "       [-5.87897646e-01],\n",
       "       [-5.87896674e-01],\n",
       "       [-5.87897921e-01],\n",
       "       [-5.87897507e-01],\n",
       "       [-5.87896535e-01],\n",
       "       [-5.87897090e-01],\n",
       "       [-5.87896396e-01],\n",
       "       [-5.87890841e-01],\n",
       "       [-5.87894035e-01],\n",
       "       [-5.87890841e-01],\n",
       "       [-5.87880010e-01],\n",
       "       [-5.87895702e-01],\n",
       "       [-5.87883620e-01],\n",
       "       [-5.87861679e-01],\n",
       "       [-5.87892785e-01],\n",
       "       [-5.87881398e-01],\n",
       "       [-5.87846126e-01],\n",
       "       [-5.87822518e-01],\n",
       "       [-5.87891952e-01],\n",
       "       [-5.87894452e-01],\n",
       "       [-5.87868345e-01],\n",
       "       [-5.87794745e-01],\n",
       "       [-5.87890564e-01],\n",
       "       [-5.87791967e-01],\n",
       "       [-5.87696148e-01],\n",
       "       [-5.87823074e-01],\n",
       "       [-5.87745307e-01],\n",
       "       [-5.87848903e-01],\n",
       "       [-5.87829462e-01],\n",
       "       [-5.87732254e-01],\n",
       "       [-5.87621159e-01],\n",
       "       [-5.87571102e-01],\n",
       "       [-5.87812797e-01],\n",
       "       [-5.87565612e-01],\n",
       "       [-5.87523952e-01],\n",
       "       [-5.87889175e-01],\n",
       "       [-5.87732254e-01],\n",
       "       [-5.87648933e-01],\n",
       "       [-5.87121234e-01],\n",
       "       [-5.87037913e-01],\n",
       "       [-5.87738093e-01],\n",
       "       [-5.87204555e-01],\n",
       "       [-5.87204555e-01],\n",
       "       [-5.87868067e-01],\n",
       "       [-5.86371346e-01],\n",
       "       [-5.86704630e-01],\n",
       "       [-5.85121533e-01],\n",
       "       [-5.85815874e-01],\n",
       "       [-5.85454817e-01],\n",
       "       [-5.85815874e-01],\n",
       "       [-5.85260401e-01],\n",
       "       [-5.84149456e-01],\n",
       "       [-5.82066434e-01],\n",
       "       [-5.82066434e-01],\n",
       "       [-5.80288922e-01],\n",
       "       [-5.81983113e-01],\n",
       "       [-5.81788698e-01],\n",
       "       [-5.76233973e-01],\n",
       "       [-5.34851271e-01],\n",
       "       [-5.75400764e-01],\n",
       "       [-5.72623402e-01],\n",
       "       [-5.56792435e-01],\n",
       "       [-4.76804394e-01],\n",
       "       [-5.40961469e-01],\n",
       "       [-5.36795425e-01],\n",
       "       [-5.24575030e-01],\n",
       "       [-4.87358372e-01],\n",
       "       [-4.37921318e-01],\n",
       "       [-5.74845292e-01],\n",
       "       [-5.72817817e-01],\n",
       "       [-5.58486626e-01],\n",
       "       [-5.26796920e-01],\n",
       "       [-5.42072414e-01],\n",
       "       [-5.18464832e-01],\n",
       "       [-5.07077646e-01],\n",
       "       [-5.40961469e-01],\n",
       "       [-4.74027031e-01],\n",
       "       [-4.21257143e-01],\n",
       "       [-3.76819342e-01],\n",
       "       [-6.85321001e-02],\n",
       "       [-4.67916834e-01],\n",
       "       [-4.59307010e-01],\n",
       "       [-5.80677753e-01],\n",
       "       [-5.24019557e-01],\n",
       "       [-4.23479033e-01],\n",
       "       [-4.73749295e-01],\n",
       "       [-3.84873694e-01],\n",
       "       [-3.77374815e-01],\n",
       "       [-3.68764991e-01],\n",
       "       [-3.36825322e-01],\n",
       "       [-3.10162641e-01],\n",
       "       [ 2.42532505e-01],\n",
       "       [-3.10162641e-01],\n",
       "       [-2.65724841e-01],\n",
       "       [-2.62947478e-01],\n",
       "       [-2.54615390e-01],\n",
       "       [-2.54615390e-01],\n",
       "       [-2.26008556e-01],\n",
       "       [-1.99068140e-01],\n",
       "       [-1.99068140e-01],\n",
       "       [-1.99068140e-01],\n",
       "       [-1.15747263e-01],\n",
       "       [-1.01860451e-01],\n",
       "       [-7.13094627e-02],\n",
       "       [-6.02000125e-02],\n",
       "       [-6.02000125e-02],\n",
       "       [-3.24263871e-02],\n",
       "       [-3.24263871e-02],\n",
       "       [-3.24263871e-02],\n",
       "       [ 2.45309867e-01],\n",
       "       [-4.65276163e-03],\n",
       "       [ 4.25624016e-02],\n",
       "       [ 5.08944892e-02],\n",
       "       [ 1.34215366e-01],\n",
       "       [ 1.34215366e-01],\n",
       "       [ 1.75875804e-01],\n",
       "       [ 2.45309867e-01],\n",
       "       [ 2.45309867e-01],\n",
       "       [ 8.84103252e-01],\n",
       "       [ 8.84103252e-01],\n",
       "       [ 1.77285927e+00],\n",
       "       [ 2.73083493e-01],\n",
       "       [ 3.00857118e-01],\n",
       "       [ 3.28630743e-01],\n",
       "       [ 5.20268759e-01],\n",
       "       [ 5.78593372e-01],\n",
       "       [ 6.06366998e-01],\n",
       "       [ 6.09144360e-01],\n",
       "       [ 7.45235125e-01],\n",
       "       [ 7.45235125e-01],\n",
       "       [ 7.45235125e-01],\n",
       "       [ 8.00782376e-01],\n",
       "       [ 8.00782376e-01],\n",
       "       [ 9.56314678e-01],\n",
       "       [ 1.10629226e+00],\n",
       "       [ 1.32848126e+00],\n",
       "       [ 5.23046121e-01],\n",
       "       [ 1.32848126e+00],\n",
       "       [ 9.39650503e-01],\n",
       "       [ 9.39650503e-01],\n",
       "       [ 1.35625488e+00],\n",
       "       [ 1.38402851e+00],\n",
       "       [ 1.63399114e+00],\n",
       "       [ 1.41180214e+00],\n",
       "       [ 1.63399114e+00],\n",
       "       [ 1.63399114e+00],\n",
       "       [ 2.10614277e+00],\n",
       "       [-5.18464832e-01],\n",
       "       [ 2.18946365e+00],\n",
       "       [ 9.25763690e-01],\n",
       "       [ 2.18946365e+00],\n",
       "       [ 6.06366998e-01],\n",
       "       [ 4.41135368e+00],\n",
       "       [ 4.74463719e+00],\n",
       "       [ 1.87728810e+00],\n",
       "       [ 5.96667671e+00],\n",
       "       [ 1.91172739e+00]])"
      ]
     },
     "execution_count": 72,
     "metadata": {},
     "output_type": "execute_result"
    }
   ],
   "source": [
    "myscaler2.fit_transform(df_scaling['no'].array.reshape(-1,1))"
   ]
  },
  {
   "cell_type": "code",
   "execution_count": 73,
   "id": "4b9036f0",
   "metadata": {},
   "outputs": [
    {
     "data": {
      "text/plain": [
       "<AxesSubplot:ylabel='Count'>"
      ]
     },
     "execution_count": 73,
     "metadata": {},
     "output_type": "execute_result"
    },
    {
     "data": {
      "image/png": "[encoded data removed]",
      "text/plain": [
       "<Figure size 432x288 with 1 Axes>"
      ]
     },
     "metadata": {
      "needs_background": "light"
     },
     "output_type": "display_data"
    }
   ],
   "source": [
    "sns.histplot(myscaler2.fit_transform(df_scaling['no'].array.reshape(-1,1)))"
   ]
  },
  {
   "cell_type": "code",
   "execution_count": 74,
   "id": "c8db7b2d",
   "metadata": {},
   "outputs": [],
   "source": [
    "myscaler3 = RobustScaler()"
   ]
  },
  {
   "cell_type": "code",
   "execution_count": 75,
   "id": "2f161849",
   "metadata": {},
   "outputs": [
    {
     "data": {
      "text/plain": [
       "array([[-0.12070574],\n",
       "       [-0.12070607],\n",
       "       [-0.12070607],\n",
       "       [-0.12070554],\n",
       "       [-0.1207054 ],\n",
       "       [-0.12070423],\n",
       "       [-0.12070573],\n",
       "       [-0.12070524],\n",
       "       [-0.12070407],\n",
       "       [-0.12070473],\n",
       "       [-0.1207039 ],\n",
       "       [-0.12069723],\n",
       "       [-0.12070107],\n",
       "       [-0.12069723],\n",
       "       [-0.12068423],\n",
       "       [-0.12070307],\n",
       "       [-0.12068856],\n",
       "       [-0.12066222],\n",
       "       [-0.12069957],\n",
       "       [-0.1206859 ],\n",
       "       [-0.12064355],\n",
       "       [-0.12061521],\n",
       "       [-0.12069857],\n",
       "       [-0.12070157],\n",
       "       [-0.12067022],\n",
       "       [-0.12058186],\n",
       "       [-0.1206969 ],\n",
       "       [-0.12057853],\n",
       "       [-0.12046349],\n",
       "       [-0.12061587],\n",
       "       [-0.12052251],\n",
       "       [-0.12064688],\n",
       "       [-0.12062354],\n",
       "       [-0.12050684],\n",
       "       [-0.12037346],\n",
       "       [-0.12031336],\n",
       "       [-0.12060353],\n",
       "       [-0.12030677],\n",
       "       [-0.12025675],\n",
       "       [-0.12069523],\n",
       "       [-0.12050684],\n",
       "       [-0.1204068 ],\n",
       "       [-0.11977326],\n",
       "       [-0.11967322],\n",
       "       [-0.12051385],\n",
       "       [-0.11987329],\n",
       "       [-0.11987329],\n",
       "       [-0.12066989],\n",
       "       [-0.11887296],\n",
       "       [-0.11927309],\n",
       "       [-0.11737246],\n",
       "       [-0.11820607],\n",
       "       [-0.11777259],\n",
       "       [-0.11820607],\n",
       "       [-0.11753918],\n",
       "       [-0.1162054 ],\n",
       "       [-0.11370457],\n",
       "       [-0.11370457],\n",
       "       [-0.11157052],\n",
       "       [-0.11360453],\n",
       "       [-0.11337112],\n",
       "       [-0.10670223],\n",
       "       [-0.05701901],\n",
       "       [-0.1057019 ],\n",
       "       [-0.10236746],\n",
       "       [-0.08336112],\n",
       "       [ 0.01267089],\n",
       "       [-0.06435478],\n",
       "       [-0.05935312],\n",
       "       [-0.04468156],\n",
       "       [ 0.        ],\n",
       "       [ 0.05935312],\n",
       "       [-0.10503501],\n",
       "       [-0.10260087],\n",
       "       [-0.08539513],\n",
       "       [-0.04734912],\n",
       "       [-0.06568856],\n",
       "       [-0.03734578],\n",
       "       [-0.02367456],\n",
       "       [-0.06435478],\n",
       "       [ 0.01600534],\n",
       "       [ 0.07935979],\n",
       "       [ 0.1327109 ],\n",
       "       [ 0.50283428],\n",
       "       [ 0.02334111],\n",
       "       [ 0.03367789],\n",
       "       [-0.11203735],\n",
       "       [-0.04401467],\n",
       "       [ 0.07669223],\n",
       "       [ 0.01633878],\n",
       "       [ 0.12304101],\n",
       "       [ 0.13204401],\n",
       "       [ 0.14238079],\n",
       "       [ 0.18072691],\n",
       "       [ 0.21273758],\n",
       "       [ 0.8762921 ],\n",
       "       [ 0.21273758],\n",
       "       [ 0.2660887 ],\n",
       "       [ 0.26942314],\n",
       "       [ 0.27942648],\n",
       "       [ 0.27942648],\n",
       "       [ 0.31377126],\n",
       "       [ 0.34611537],\n",
       "       [ 0.34611537],\n",
       "       [ 0.34611537],\n",
       "       [ 0.44614872],\n",
       "       [ 0.46282094],\n",
       "       [ 0.49949983],\n",
       "       [ 0.51283761],\n",
       "       [ 0.51283761],\n",
       "       [ 0.54618206],\n",
       "       [ 0.54618206],\n",
       "       [ 0.54618206],\n",
       "       [ 0.87962654],\n",
       "       [ 0.57952651],\n",
       "       [ 0.63621207],\n",
       "       [ 0.64621541],\n",
       "       [ 0.74624875],\n",
       "       [ 0.74624875],\n",
       "       [ 0.79626542],\n",
       "       [ 0.87962654],\n",
       "       [ 0.87962654],\n",
       "       [ 1.64654885],\n",
       "       [ 1.64654885],\n",
       "       [ 2.71357119],\n",
       "       [ 0.91297099],\n",
       "       [ 0.94631544],\n",
       "       [ 0.97965989],\n",
       "       [ 1.20973658],\n",
       "       [ 1.27975992],\n",
       "       [ 1.31310437],\n",
       "       [ 1.31643881],\n",
       "       [ 1.47982661],\n",
       "       [ 1.47982661],\n",
       "       [ 1.47982661],\n",
       "       [ 1.54651551],\n",
       "       [ 1.54651551],\n",
       "       [ 1.73324441],\n",
       "       [ 1.91330443],\n",
       "       [ 2.18006002],\n",
       "       [ 1.21307102],\n",
       "       [ 2.18006002],\n",
       "       [ 1.71323775],\n",
       "       [ 1.71323775],\n",
       "       [ 2.21340447],\n",
       "       [ 2.24674892],\n",
       "       [ 2.54684895],\n",
       "       [ 2.28009336],\n",
       "       [ 2.54684895],\n",
       "       [ 2.54684895],\n",
       "       [ 3.11370457],\n",
       "       [-0.03734578],\n",
       "       [ 3.21373791],\n",
       "       [ 1.69656552],\n",
       "       [ 3.21373791],\n",
       "       [ 1.31310437],\n",
       "       [ 5.88129376],\n",
       "       [ 6.28142714],\n",
       "       [ 2.83894632],\n",
       "       [ 7.74858286],\n",
       "       [ 2.88029343]])"
      ]
     },
     "execution_count": 75,
     "metadata": {},
     "output_type": "execute_result"
    }
   ],
   "source": [
    "myscaler3.fit_transform(df_scaling['no'].array.reshape(-1,1))"
   ]
  },
  {
   "cell_type": "code",
   "execution_count": 76,
   "id": "a92b5b27",
   "metadata": {},
   "outputs": [
    {
     "data": {
      "text/plain": [
       "<AxesSubplot:ylabel='Count'>"
      ]
     },
     "execution_count": 76,
     "metadata": {},
     "output_type": "execute_result"
    },
    {
     "data": {
      "image/png": "[encoded data removed]",
      "text/plain": [
       "<Figure size 432x288 with 1 Axes>"
      ]
     },
     "metadata": {
      "needs_background": "light"
     },
     "output_type": "display_data"
    }
   ],
   "source": [
    "sns.histplot(myscaler3.fit_transform(df_scaling['no'].array.reshape(-1,1)))"
   ]
  },
  {
   "cell_type": "code",
   "execution_count": null,
   "id": "0e9479f6",
   "metadata": {},
   "outputs": [],
   "source": [
    "#Basic data exploration"
   ]
  },
  {
   "cell_type": "code",
   "execution_count": null,
   "id": "dfbd65e1",
   "metadata": {},
   "outputs": [],
   "source": [
    "#How to handle Categorical data?"
   ]
  },
  {
   "cell_type": "code",
   "execution_count": 77,
   "id": "0cdafe2d",
   "metadata": {},
   "outputs": [],
   "source": [
    "df_explore = pd.read_csv('D:\\Data\\Data Engineering_ITI\\Data Exploration and preparation\\day_3\\lab-20231012T192036Z-001\\lab\\WA_Fn-UseC_-HR-Employee-Attrition.csv')"
   ]
  },
  {
   "cell_type": "code",
   "execution_count": 78,
   "id": "e40dfac4",
   "metadata": {},
   "outputs": [
    {
     "data": {
      "text/html": [
       "<div>\n",
       "<style scoped>\n",
       "    .dataframe tbody tr th:only-of-type {\n",
       "        vertical-align: middle;\n",
       "    }\n",
       "\n",
       "    .dataframe tbody tr th {\n",
       "        vertical-align: top;\n",
       "    }\n",
       "\n",
       "    .dataframe thead th {\n",
       "        text-align: right;\n",
       "    }\n",
       "</style>\n",
       "<table border=\"1\" class=\"dataframe\">\n",
       "  <thead>\n",
       "    <tr style=\"text-align: right;\">\n",
       "      <th></th>\n",
       "      <th>Age</th>\n",
       "      <th>Attrition</th>\n",
       "      <th>BusinessTravel</th>\n",
       "      <th>DailyRate</th>\n",
       "      <th>Department</th>\n",
       "      <th>DistanceFromHome</th>\n",
       "      <th>Education</th>\n",
       "      <th>EducationField</th>\n",
       "      <th>EmployeeCount</th>\n",
       "      <th>EmployeeNumber</th>\n",
       "      <th>...</th>\n",
       "      <th>RelationshipSatisfaction</th>\n",
       "      <th>StandardHours</th>\n",
       "      <th>StockOptionLevel</th>\n",
       "      <th>TotalWorkingYears</th>\n",
       "      <th>TrainingTimesLastYear</th>\n",
       "      <th>WorkLifeBalance</th>\n",
       "      <th>YearsAtCompany</th>\n",
       "      <th>YearsInCurrentRole</th>\n",
       "      <th>YearsSinceLastPromotion</th>\n",
       "      <th>YearsWithCurrManager</th>\n",
       "    </tr>\n",
       "  </thead>\n",
       "  <tbody>\n",
       "    <tr>\n",
       "      <th>0</th>\n",
       "      <td>41</td>\n",
       "      <td>Yes</td>\n",
       "      <td>Travel_Rarely</td>\n",
       "      <td>1102</td>\n",
       "      <td>Sales</td>\n",
       "      <td>1</td>\n",
       "      <td>2</td>\n",
       "      <td>Life Sciences</td>\n",
       "      <td>1</td>\n",
       "      <td>1</td>\n",
       "      <td>...</td>\n",
       "      <td>1</td>\n",
       "      <td>80</td>\n",
       "      <td>0</td>\n",
       "      <td>8</td>\n",
       "      <td>0</td>\n",
       "      <td>1</td>\n",
       "      <td>6</td>\n",
       "      <td>4</td>\n",
       "      <td>0</td>\n",
       "      <td>5</td>\n",
       "    </tr>\n",
       "    <tr>\n",
       "      <th>1</th>\n",
       "      <td>49</td>\n",
       "      <td>No</td>\n",
       "      <td>Travel_Frequently</td>\n",
       "      <td>279</td>\n",
       "      <td>Research &amp; Development</td>\n",
       "      <td>8</td>\n",
       "      <td>1</td>\n",
       "      <td>Life Sciences</td>\n",
       "      <td>1</td>\n",
       "      <td>2</td>\n",
       "      <td>...</td>\n",
       "      <td>4</td>\n",
       "      <td>80</td>\n",
       "      <td>1</td>\n",
       "      <td>10</td>\n",
       "      <td>3</td>\n",
       "      <td>3</td>\n",
       "      <td>10</td>\n",
       "      <td>7</td>\n",
       "      <td>1</td>\n",
       "      <td>7</td>\n",
       "    </tr>\n",
       "    <tr>\n",
       "      <th>2</th>\n",
       "      <td>37</td>\n",
       "      <td>Yes</td>\n",
       "      <td>Travel_Rarely</td>\n",
       "      <td>1373</td>\n",
       "      <td>Research &amp; Development</td>\n",
       "      <td>2</td>\n",
       "      <td>2</td>\n",
       "      <td>Other</td>\n",
       "      <td>1</td>\n",
       "      <td>4</td>\n",
       "      <td>...</td>\n",
       "      <td>2</td>\n",
       "      <td>80</td>\n",
       "      <td>0</td>\n",
       "      <td>7</td>\n",
       "      <td>3</td>\n",
       "      <td>3</td>\n",
       "      <td>0</td>\n",
       "      <td>0</td>\n",
       "      <td>0</td>\n",
       "      <td>0</td>\n",
       "    </tr>\n",
       "    <tr>\n",
       "      <th>3</th>\n",
       "      <td>33</td>\n",
       "      <td>No</td>\n",
       "      <td>Travel_Frequently</td>\n",
       "      <td>1392</td>\n",
       "      <td>Research &amp; Development</td>\n",
       "      <td>3</td>\n",
       "      <td>4</td>\n",
       "      <td>Life Sciences</td>\n",
       "      <td>1</td>\n",
       "      <td>5</td>\n",
       "      <td>...</td>\n",
       "      <td>3</td>\n",
       "      <td>80</td>\n",
       "      <td>0</td>\n",
       "      <td>8</td>\n",
       "      <td>3</td>\n",
       "      <td>3</td>\n",
       "      <td>8</td>\n",
       "      <td>7</td>\n",
       "      <td>3</td>\n",
       "      <td>0</td>\n",
       "    </tr>\n",
       "    <tr>\n",
       "      <th>4</th>\n",
       "      <td>27</td>\n",
       "      <td>No</td>\n",
       "      <td>Travel_Rarely</td>\n",
       "      <td>591</td>\n",
       "      <td>Research &amp; Development</td>\n",
       "      <td>2</td>\n",
       "      <td>1</td>\n",
       "      <td>Medical</td>\n",
       "      <td>1</td>\n",
       "      <td>7</td>\n",
       "      <td>...</td>\n",
       "      <td>4</td>\n",
       "      <td>80</td>\n",
       "      <td>1</td>\n",
       "      <td>6</td>\n",
       "      <td>3</td>\n",
       "      <td>3</td>\n",
       "      <td>2</td>\n",
       "      <td>2</td>\n",
       "      <td>2</td>\n",
       "      <td>2</td>\n",
       "    </tr>\n",
       "    <tr>\n",
       "      <th>...</th>\n",
       "      <td>...</td>\n",
       "      <td>...</td>\n",
       "      <td>...</td>\n",
       "      <td>...</td>\n",
       "      <td>...</td>\n",
       "      <td>...</td>\n",
       "      <td>...</td>\n",
       "      <td>...</td>\n",
       "      <td>...</td>\n",
       "      <td>...</td>\n",
       "      <td>...</td>\n",
       "      <td>...</td>\n",
       "      <td>...</td>\n",
       "      <td>...</td>\n",
       "      <td>...</td>\n",
       "      <td>...</td>\n",
       "      <td>...</td>\n",
       "      <td>...</td>\n",
       "      <td>...</td>\n",
       "      <td>...</td>\n",
       "      <td>...</td>\n",
       "    </tr>\n",
       "    <tr>\n",
       "      <th>1465</th>\n",
       "      <td>36</td>\n",
       "      <td>No</td>\n",
       "      <td>Travel_Frequently</td>\n",
       "      <td>884</td>\n",
       "      <td>Research &amp; Development</td>\n",
       "      <td>23</td>\n",
       "      <td>2</td>\n",
       "      <td>Medical</td>\n",
       "      <td>1</td>\n",
       "      <td>2061</td>\n",
       "      <td>...</td>\n",
       "      <td>3</td>\n",
       "      <td>80</td>\n",
       "      <td>1</td>\n",
       "      <td>17</td>\n",
       "      <td>3</td>\n",
       "      <td>3</td>\n",
       "      <td>5</td>\n",
       "      <td>2</td>\n",
       "      <td>0</td>\n",
       "      <td>3</td>\n",
       "    </tr>\n",
       "    <tr>\n",
       "      <th>1466</th>\n",
       "      <td>39</td>\n",
       "      <td>No</td>\n",
       "      <td>Travel_Rarely</td>\n",
       "      <td>613</td>\n",
       "      <td>Research &amp; Development</td>\n",
       "      <td>6</td>\n",
       "      <td>1</td>\n",
       "      <td>Medical</td>\n",
       "      <td>1</td>\n",
       "      <td>2062</td>\n",
       "      <td>...</td>\n",
       "      <td>1</td>\n",
       "      <td>80</td>\n",
       "      <td>1</td>\n",
       "      <td>9</td>\n",
       "      <td>5</td>\n",
       "      <td>3</td>\n",
       "      <td>7</td>\n",
       "      <td>7</td>\n",
       "      <td>1</td>\n",
       "      <td>7</td>\n",
       "    </tr>\n",
       "    <tr>\n",
       "      <th>1467</th>\n",
       "      <td>27</td>\n",
       "      <td>No</td>\n",
       "      <td>Travel_Rarely</td>\n",
       "      <td>155</td>\n",
       "      <td>Research &amp; Development</td>\n",
       "      <td>4</td>\n",
       "      <td>3</td>\n",
       "      <td>Life Sciences</td>\n",
       "      <td>1</td>\n",
       "      <td>2064</td>\n",
       "      <td>...</td>\n",
       "      <td>2</td>\n",
       "      <td>80</td>\n",
       "      <td>1</td>\n",
       "      <td>6</td>\n",
       "      <td>0</td>\n",
       "      <td>3</td>\n",
       "      <td>6</td>\n",
       "      <td>2</td>\n",
       "      <td>0</td>\n",
       "      <td>3</td>\n",
       "    </tr>\n",
       "    <tr>\n",
       "      <th>1468</th>\n",
       "      <td>49</td>\n",
       "      <td>No</td>\n",
       "      <td>Travel_Frequently</td>\n",
       "      <td>1023</td>\n",
       "      <td>Sales</td>\n",
       "      <td>2</td>\n",
       "      <td>3</td>\n",
       "      <td>Medical</td>\n",
       "      <td>1</td>\n",
       "      <td>2065</td>\n",
       "      <td>...</td>\n",
       "      <td>4</td>\n",
       "      <td>80</td>\n",
       "      <td>0</td>\n",
       "      <td>17</td>\n",
       "      <td>3</td>\n",
       "      <td>2</td>\n",
       "      <td>9</td>\n",
       "      <td>6</td>\n",
       "      <td>0</td>\n",
       "      <td>8</td>\n",
       "    </tr>\n",
       "    <tr>\n",
       "      <th>1469</th>\n",
       "      <td>34</td>\n",
       "      <td>No</td>\n",
       "      <td>Travel_Rarely</td>\n",
       "      <td>628</td>\n",
       "      <td>Research &amp; Development</td>\n",
       "      <td>8</td>\n",
       "      <td>3</td>\n",
       "      <td>Medical</td>\n",
       "      <td>1</td>\n",
       "      <td>2068</td>\n",
       "      <td>...</td>\n",
       "      <td>1</td>\n",
       "      <td>80</td>\n",
       "      <td>0</td>\n",
       "      <td>6</td>\n",
       "      <td>3</td>\n",
       "      <td>4</td>\n",
       "      <td>4</td>\n",
       "      <td>3</td>\n",
       "      <td>1</td>\n",
       "      <td>2</td>\n",
       "    </tr>\n",
       "  </tbody>\n",
       "</table>\n",
       "<p>1470 rows × 35 columns</p>\n",
       "</div>"
      ],
      "text/plain": [
       "      Age Attrition     BusinessTravel  DailyRate              Department  \\\n",
       "0      41       Yes      Travel_Rarely       1102                   Sales   \n",
       "1      49        No  Travel_Frequently        279  Research & Development   \n",
       "2      37       Yes      Travel_Rarely       1373  Research & Development   \n",
       "3      33        No  Travel_Frequently       1392  Research & Development   \n",
       "4      27        No      Travel_Rarely        591  Research & Development   \n",
       "...   ...       ...                ...        ...                     ...   \n",
       "1465   36        No  Travel_Frequently        884  Research & Development   \n",
       "1466   39        No      Travel_Rarely        613  Research & Development   \n",
       "1467   27        No      Travel_Rarely        155  Research & Development   \n",
       "1468   49        No  Travel_Frequently       1023                   Sales   \n",
       "1469   34        No      Travel_Rarely        628  Research & Development   \n",
       "\n",
       "      DistanceFromHome  Education EducationField  EmployeeCount  \\\n",
       "0                    1          2  Life Sciences              1   \n",
       "1                    8          1  Life Sciences              1   \n",
       "2                    2          2          Other              1   \n",
       "3                    3          4  Life Sciences              1   \n",
       "4                    2          1        Medical              1   \n",
       "...                ...        ...            ...            ...   \n",
       "1465                23          2        Medical              1   \n",
       "1466                 6          1        Medical              1   \n",
       "1467                 4          3  Life Sciences              1   \n",
       "1468                 2          3        Medical              1   \n",
       "1469                 8          3        Medical              1   \n",
       "\n",
       "      EmployeeNumber  ...  RelationshipSatisfaction StandardHours  \\\n",
       "0                  1  ...                         1            80   \n",
       "1                  2  ...                         4            80   \n",
       "2                  4  ...                         2            80   \n",
       "3                  5  ...                         3            80   \n",
       "4                  7  ...                         4            80   \n",
       "...              ...  ...                       ...           ...   \n",
       "1465            2061  ...                         3            80   \n",
       "1466            2062  ...                         1            80   \n",
       "1467            2064  ...                         2            80   \n",
       "1468            2065  ...                         4            80   \n",
       "1469            2068  ...                         1            80   \n",
       "\n",
       "      StockOptionLevel  TotalWorkingYears  TrainingTimesLastYear  \\\n",
       "0                    0                  8                      0   \n",
       "1                    1                 10                      3   \n",
       "2                    0                  7                      3   \n",
       "3                    0                  8                      3   \n",
       "4                    1                  6                      3   \n",
       "...                ...                ...                    ...   \n",
       "1465                 1                 17                      3   \n",
       "1466                 1                  9                      5   \n",
       "1467                 1                  6                      0   \n",
       "1468                 0                 17                      3   \n",
       "1469                 0                  6                      3   \n",
       "\n",
       "     WorkLifeBalance  YearsAtCompany YearsInCurrentRole  \\\n",
       "0                  1               6                  4   \n",
       "1                  3              10                  7   \n",
       "2                  3               0                  0   \n",
       "3                  3               8                  7   \n",
       "4                  3               2                  2   \n",
       "...              ...             ...                ...   \n",
       "1465               3               5                  2   \n",
       "1466               3               7                  7   \n",
       "1467               3               6                  2   \n",
       "1468               2               9                  6   \n",
       "1469               4               4                  3   \n",
       "\n",
       "      YearsSinceLastPromotion  YearsWithCurrManager  \n",
       "0                           0                     5  \n",
       "1                           1                     7  \n",
       "2                           0                     0  \n",
       "3                           3                     0  \n",
       "4                           2                     2  \n",
       "...                       ...                   ...  \n",
       "1465                        0                     3  \n",
       "1466                        1                     7  \n",
       "1467                        0                     3  \n",
       "1468                        0                     8  \n",
       "1469                        1                     2  \n",
       "\n",
       "[1470 rows x 35 columns]"
      ]
     },
     "execution_count": 78,
     "metadata": {},
     "output_type": "execute_result"
    }
   ],
   "source": [
    "df_explore"
   ]
  },
  {
   "cell_type": "code",
   "execution_count": 79,
   "id": "27384417",
   "metadata": {},
   "outputs": [
    {
     "data": {
      "text/plain": [
       "0       1\n",
       "1       0\n",
       "2       1\n",
       "3       0\n",
       "4       0\n",
       "       ..\n",
       "1465    0\n",
       "1466    0\n",
       "1467    0\n",
       "1468    0\n",
       "1469    0\n",
       "Name: Attrition, Length: 1470, dtype: int64"
      ]
     },
     "execution_count": 79,
     "metadata": {},
     "output_type": "execute_result"
    }
   ],
   "source": [
    "#with replace\n",
    "df_explore['Attrition'].replace({'Yes':1, 'No':0})"
   ]
  },
  {
   "cell_type": "code",
   "execution_count": 89,
   "id": "d8095259",
   "metadata": {},
   "outputs": [
    {
     "data": {
      "text/plain": [
       "array([1, 0, 1, ..., 0, 0, 0])"
      ]
     },
     "execution_count": 89,
     "metadata": {},
     "output_type": "execute_result"
    }
   ],
   "source": [
    "#with label encoding\n",
    "mylabelencoder = LabelEncoder()\n",
    "mylabelencoder.fit_transform(df_explore['Attrition'])"
   ]
  },
  {
   "cell_type": "code",
   "execution_count": 88,
   "id": "30a91249",
   "metadata": {},
   "outputs": [
    {
     "data": {
      "text/plain": [
       "array(['Yes', 'No', 'Yes', ..., 'No', 'No', 'No'], dtype=object)"
      ]
     },
     "execution_count": 88,
     "metadata": {},
     "output_type": "execute_result"
    }
   ],
   "source": [
    " mylabelencoder.inverse_transform(y)"
   ]
  },
  {
   "cell_type": "code",
   "execution_count": 94,
   "id": "779cf66e",
   "metadata": {},
   "outputs": [],
   "source": [
    "#with hot encoding\n",
    "myhotencoder = OneHotEncoder()\n",
    "enc = myhotencoder.fit_transform(df_explore['Attrition'].array.reshape(-1,1))"
   ]
  },
  {
   "cell_type": "code",
   "execution_count": 98,
   "id": "eaf1fc7b",
   "metadata": {},
   "outputs": [
    {
     "name": "stdout",
     "output_type": "stream",
     "text": [
      "[[0. 1.]\n",
      " [1. 0.]\n",
      " [0. 1.]\n",
      " ...\n",
      " [1. 0.]\n",
      " [1. 0.]\n",
      " [1. 0.]]\n"
     ]
    }
   ],
   "source": [
    "print(enc.toarray())"
   ]
  },
  {
   "cell_type": "code",
   "execution_count": 99,
   "id": "7f3afa40",
   "metadata": {},
   "outputs": [
    {
     "data": {
      "text/html": [
       "<div>\n",
       "<style scoped>\n",
       "    .dataframe tbody tr th:only-of-type {\n",
       "        vertical-align: middle;\n",
       "    }\n",
       "\n",
       "    .dataframe tbody tr th {\n",
       "        vertical-align: top;\n",
       "    }\n",
       "\n",
       "    .dataframe thead th {\n",
       "        text-align: right;\n",
       "    }\n",
       "</style>\n",
       "<table border=\"1\" class=\"dataframe\">\n",
       "  <thead>\n",
       "    <tr style=\"text-align: right;\">\n",
       "      <th></th>\n",
       "      <th>No</th>\n",
       "      <th>Yes</th>\n",
       "    </tr>\n",
       "  </thead>\n",
       "  <tbody>\n",
       "    <tr>\n",
       "      <th>0</th>\n",
       "      <td>0</td>\n",
       "      <td>1</td>\n",
       "    </tr>\n",
       "    <tr>\n",
       "      <th>1</th>\n",
       "      <td>1</td>\n",
       "      <td>0</td>\n",
       "    </tr>\n",
       "    <tr>\n",
       "      <th>2</th>\n",
       "      <td>0</td>\n",
       "      <td>1</td>\n",
       "    </tr>\n",
       "    <tr>\n",
       "      <th>3</th>\n",
       "      <td>1</td>\n",
       "      <td>0</td>\n",
       "    </tr>\n",
       "    <tr>\n",
       "      <th>4</th>\n",
       "      <td>1</td>\n",
       "      <td>0</td>\n",
       "    </tr>\n",
       "    <tr>\n",
       "      <th>...</th>\n",
       "      <td>...</td>\n",
       "      <td>...</td>\n",
       "    </tr>\n",
       "    <tr>\n",
       "      <th>1465</th>\n",
       "      <td>1</td>\n",
       "      <td>0</td>\n",
       "    </tr>\n",
       "    <tr>\n",
       "      <th>1466</th>\n",
       "      <td>1</td>\n",
       "      <td>0</td>\n",
       "    </tr>\n",
       "    <tr>\n",
       "      <th>1467</th>\n",
       "      <td>1</td>\n",
       "      <td>0</td>\n",
       "    </tr>\n",
       "    <tr>\n",
       "      <th>1468</th>\n",
       "      <td>1</td>\n",
       "      <td>0</td>\n",
       "    </tr>\n",
       "    <tr>\n",
       "      <th>1469</th>\n",
       "      <td>1</td>\n",
       "      <td>0</td>\n",
       "    </tr>\n",
       "  </tbody>\n",
       "</table>\n",
       "<p>1470 rows × 2 columns</p>\n",
       "</div>"
      ],
      "text/plain": [
       "      No  Yes\n",
       "0      0    1\n",
       "1      1    0\n",
       "2      0    1\n",
       "3      1    0\n",
       "4      1    0\n",
       "...   ..  ...\n",
       "1465   1    0\n",
       "1466   1    0\n",
       "1467   1    0\n",
       "1468   1    0\n",
       "1469   1    0\n",
       "\n",
       "[1470 rows x 2 columns]"
      ]
     },
     "execution_count": 99,
     "metadata": {},
     "output_type": "execute_result"
    }
   ],
   "source": [
    "#with get dummies\n",
    "pd.get_dummies(df_explore['Attrition'])"
   ]
  },
  {
   "cell_type": "code",
   "execution_count": null,
   "id": "f7af4ec4",
   "metadata": {},
   "outputs": [],
   "source": []
  }
 ],
 "metadata": {
  "kernelspec": {
   "display_name": "Python 3 (ipykernel)",
   "language": "python",
   "name": "python3"
  },
  "language_info": {
   "codemirror_mode": {
    "name": "ipython",
    "version": 3
   },
   "file_extension": ".py",
   "mimetype": "text/x-python",
   "name": "python",
   "nbconvert_exporter": "python",
   "pygments_lexer": "ipython3",
   "version": "3.9.7"
  }
 },
 "nbformat": 4,
 "nbformat_minor": 5
}
